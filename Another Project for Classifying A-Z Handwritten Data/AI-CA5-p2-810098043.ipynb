{
 "cells": [
  {
   "cell_type": "markdown",
   "id": "11edbf26",
   "metadata": {
    "id": "11edbf26"
   },
   "source": [
    "# AI CA5 Phase 2"
   ]
  },
  {
   "cell_type": "code",
   "execution_count": 37,
   "id": "770b2e1b",
   "metadata": {
    "id": "770b2e1b"
   },
   "outputs": [],
   "source": [
    "import pandas as pd\n",
    "import numpy as np\n",
    "import copy\n",
    "import matplotlib.pyplot as plt\n",
    "from sklearn.model_selection import train_test_split\n",
    "import tensorflow as tf\n",
    "from keras import layers\n",
    "import datetime\n",
    "from sklearn import metrics\n",
    "from keras.regularizers import l2"
   ]
  },
  {
   "cell_type": "code",
   "execution_count": 2,
   "id": "RKJBuuRT9kRx",
   "metadata": {
    "colab": {
     "base_uri": "https://localhost:8080/"
    },
    "id": "RKJBuuRT9kRx",
    "outputId": "16f61a03-e519-40c2-9d93-43d5208085d9"
   },
   "outputs": [],
   "source": [
    "# from google.colab import drive\n",
    "# drive.mount('/content/drive')"
   ]
  },
  {
   "cell_type": "markdown",
   "id": "cea36915",
   "metadata": {
    "id": "cea36915"
   },
   "source": [
    "## Phase 1"
   ]
  },
  {
   "cell_type": "markdown",
   "id": "4141bfcb",
   "metadata": {
    "id": "4141bfcb"
   },
   "source": [
    "### Reading Dataset"
   ]
  },
  {
   "cell_type": "code",
   "execution_count": 3,
   "id": "b9beea34",
   "metadata": {
    "id": "b9beea34"
   },
   "outputs": [],
   "source": [
    "dataset_ = pd.read_csv('A_Z Handwritten Data.csv')"
   ]
  },
  {
   "cell_type": "markdown",
   "id": "796191b4",
   "metadata": {
    "id": "796191b4"
   },
   "source": [
    "### Organizing Datas"
   ]
  },
  {
   "cell_type": "code",
   "execution_count": 4,
   "id": "5bc48568",
   "metadata": {
    "id": "5bc48568"
   },
   "outputs": [],
   "source": [
    "y = dataset_['0']\n",
    "del dataset_['0']\n",
    "x = dataset_"
   ]
  },
  {
   "cell_type": "code",
   "execution_count": 5,
   "id": "4a1f062c",
   "metadata": {
    "id": "4a1f062c"
   },
   "outputs": [],
   "source": [
    "x = x.values.tolist()\n",
    "new_x = pd.DataFrame()\n",
    "new_x['value'] = x\n",
    "x = new_x"
   ]
  },
  {
   "cell_type": "code",
   "execution_count": 6,
   "id": "65fec5e8",
   "metadata": {
    "colab": {
     "base_uri": "https://localhost:8080/",
     "height": 423
    },
    "id": "65fec5e8",
    "outputId": "50843367-61d9-405d-a9f2-8ba1b3e57fdb"
   },
   "outputs": [
    {
     "data": {
      "text/html": [
       "<div>\n",
       "<style scoped>\n",
       "    .dataframe tbody tr th:only-of-type {\n",
       "        vertical-align: middle;\n",
       "    }\n",
       "\n",
       "    .dataframe tbody tr th {\n",
       "        vertical-align: top;\n",
       "    }\n",
       "\n",
       "    .dataframe thead th {\n",
       "        text-align: right;\n",
       "    }\n",
       "</style>\n",
       "<table border=\"1\" class=\"dataframe\">\n",
       "  <thead>\n",
       "    <tr style=\"text-align: right;\">\n",
       "      <th></th>\n",
       "      <th>value</th>\n",
       "    </tr>\n",
       "  </thead>\n",
       "  <tbody>\n",
       "    <tr>\n",
       "      <th>0</th>\n",
       "      <td>[0, 0, 0, 0, 0, 0, 0, 0, 0, 0, 0, 0, 0, 0, 0, ...</td>\n",
       "    </tr>\n",
       "    <tr>\n",
       "      <th>1</th>\n",
       "      <td>[0, 0, 0, 0, 0, 0, 0, 0, 0, 0, 0, 0, 0, 0, 0, ...</td>\n",
       "    </tr>\n",
       "    <tr>\n",
       "      <th>2</th>\n",
       "      <td>[0, 0, 0, 0, 0, 0, 0, 0, 0, 0, 0, 0, 0, 0, 0, ...</td>\n",
       "    </tr>\n",
       "    <tr>\n",
       "      <th>3</th>\n",
       "      <td>[0, 0, 0, 0, 0, 0, 0, 0, 0, 0, 0, 0, 0, 0, 0, ...</td>\n",
       "    </tr>\n",
       "    <tr>\n",
       "      <th>4</th>\n",
       "      <td>[0, 0, 0, 0, 0, 0, 0, 0, 0, 0, 0, 0, 0, 0, 0, ...</td>\n",
       "    </tr>\n",
       "    <tr>\n",
       "      <th>...</th>\n",
       "      <td>...</td>\n",
       "    </tr>\n",
       "    <tr>\n",
       "      <th>372445</th>\n",
       "      <td>[0, 0, 0, 0, 0, 0, 0, 0, 0, 0, 0, 0, 0, 0, 0, ...</td>\n",
       "    </tr>\n",
       "    <tr>\n",
       "      <th>372446</th>\n",
       "      <td>[0, 0, 0, 0, 0, 0, 0, 0, 0, 0, 0, 0, 0, 0, 0, ...</td>\n",
       "    </tr>\n",
       "    <tr>\n",
       "      <th>372447</th>\n",
       "      <td>[0, 0, 0, 0, 0, 0, 0, 0, 0, 0, 0, 0, 0, 0, 0, ...</td>\n",
       "    </tr>\n",
       "    <tr>\n",
       "      <th>372448</th>\n",
       "      <td>[0, 0, 0, 0, 0, 0, 0, 0, 0, 0, 0, 0, 0, 0, 0, ...</td>\n",
       "    </tr>\n",
       "    <tr>\n",
       "      <th>372449</th>\n",
       "      <td>[0, 0, 0, 0, 0, 0, 0, 0, 0, 0, 0, 0, 0, 0, 0, ...</td>\n",
       "    </tr>\n",
       "  </tbody>\n",
       "</table>\n",
       "<p>372450 rows × 1 columns</p>\n",
       "</div>"
      ],
      "text/plain": [
       "                                                    value\n",
       "0       [0, 0, 0, 0, 0, 0, 0, 0, 0, 0, 0, 0, 0, 0, 0, ...\n",
       "1       [0, 0, 0, 0, 0, 0, 0, 0, 0, 0, 0, 0, 0, 0, 0, ...\n",
       "2       [0, 0, 0, 0, 0, 0, 0, 0, 0, 0, 0, 0, 0, 0, 0, ...\n",
       "3       [0, 0, 0, 0, 0, 0, 0, 0, 0, 0, 0, 0, 0, 0, 0, ...\n",
       "4       [0, 0, 0, 0, 0, 0, 0, 0, 0, 0, 0, 0, 0, 0, 0, ...\n",
       "...                                                   ...\n",
       "372445  [0, 0, 0, 0, 0, 0, 0, 0, 0, 0, 0, 0, 0, 0, 0, ...\n",
       "372446  [0, 0, 0, 0, 0, 0, 0, 0, 0, 0, 0, 0, 0, 0, 0, ...\n",
       "372447  [0, 0, 0, 0, 0, 0, 0, 0, 0, 0, 0, 0, 0, 0, 0, ...\n",
       "372448  [0, 0, 0, 0, 0, 0, 0, 0, 0, 0, 0, 0, 0, 0, 0, ...\n",
       "372449  [0, 0, 0, 0, 0, 0, 0, 0, 0, 0, 0, 0, 0, 0, 0, ...\n",
       "\n",
       "[372450 rows x 1 columns]"
      ]
     },
     "execution_count": 6,
     "metadata": {},
     "output_type": "execute_result"
    }
   ],
   "source": [
    "x"
   ]
  },
  {
   "cell_type": "code",
   "execution_count": 7,
   "id": "eae9795e",
   "metadata": {
    "colab": {
     "base_uri": "https://localhost:8080/"
    },
    "id": "eae9795e",
    "outputId": "d8f5b56d-3c19-43e8-c971-e737fd805aec"
   },
   "outputs": [
    {
     "data": {
      "text/plain": [
       "0          0\n",
       "1          0\n",
       "2          0\n",
       "3          0\n",
       "4          0\n",
       "          ..\n",
       "372445    25\n",
       "372446    25\n",
       "372447    25\n",
       "372448    25\n",
       "372449    25\n",
       "Name: 0, Length: 372450, dtype: int64"
      ]
     },
     "execution_count": 7,
     "metadata": {},
     "output_type": "execute_result"
    }
   ],
   "source": [
    "y"
   ]
  },
  {
   "cell_type": "code",
   "execution_count": 8,
   "id": "291a30d3",
   "metadata": {
    "colab": {
     "base_uri": "https://localhost:8080/"
    },
    "id": "291a30d3",
    "outputId": "0f5c714e-c863-416d-a357-c3c8d9990791"
   },
   "outputs": [
    {
     "name": "stdout",
     "output_type": "stream",
     "text": [
      "num of datas: 372450\n",
      "num of classes: 26\n"
     ]
    }
   ],
   "source": [
    "print('num of datas:', len(x))\n",
    "classes = []\n",
    "for i in range(len(y)):\n",
    "    if y[i] not in classes:\n",
    "        classes.append(y[i])\n",
    "print('num of classes:', len(classes))"
   ]
  },
  {
   "cell_type": "code",
   "execution_count": 9,
   "id": "075ba87d",
   "metadata": {
    "colab": {
     "base_uri": "https://localhost:8080/",
     "height": 279
    },
    "id": "075ba87d",
    "outputId": "6b7ba31b-9400-4c7d-b15a-cbdb53b030a9"
   },
   "outputs": [
    {
     "data": {
      "image/png": "[encoded data removed]",
      "text/plain": [
       "<Figure size 432x288 with 1 Axes>"
      ]
     },
     "metadata": {
      "needs_background": "light"
     },
     "output_type": "display_data"
    }
   ],
   "source": [
    "classes_count_dict = {}\n",
    "for i in range(len(y)):\n",
    "    if y[i] not in classes_count_dict:\n",
    "        classes_count_dict[y[i]] = 1\n",
    "    else:\n",
    "        classes_count_dict[y[i]] += 1\n",
    "\n",
    "y_axis = list(classes_count_dict.keys())\n",
    "x_axis = list(classes_count_dict.values())\n",
    "plt.barh(y_axis,x_axis)\n",
    "plt.ylabel('Class')\n",
    "plt.xlabel('Count')\n",
    "plt.show()"
   ]
  },
  {
   "cell_type": "code",
   "execution_count": 10,
   "id": "9dd157f0",
   "metadata": {
    "colab": {
     "base_uri": "https://localhost:8080/",
     "height": 1000
    },
    "id": "9dd157f0",
    "outputId": "d9253cdc-8474-44d4-c3db-c42116179e1d"
   },
   "outputs": [
    {
     "name": "stdout",
     "output_type": "stream",
     "text": [
      "class 0\n"
     ]
    },
    {
     "data": {
      "image/png": "[encoded data removed]",
      "text/plain": [
       "<Figure size 432x288 with 1 Axes>"
      ]
     },
     "metadata": {
      "needs_background": "light"
     },
     "output_type": "display_data"
    },
    {
     "name": "stdout",
     "output_type": "stream",
     "text": [
      "class 1\n"
     ]
    },
    {
     "data": {
      "image/png": "[encoded data removed]",
      "text/plain": [
       "<Figure size 432x288 with 1 Axes>"
      ]
     },
     "metadata": {
      "needs_background": "light"
     },
     "output_type": "display_data"
    },
    {
     "name": "stdout",
     "output_type": "stream",
     "text": [
      "class 2\n"
     ]
    },
    {
     "data": {
      "image/png": "[encoded data removed]",
      "text/plain": [
       "<Figure size 432x288 with 1 Axes>"
      ]
     },
     "metadata": {
      "needs_background": "light"
     },
     "output_type": "display_data"
    },
    {
     "name": "stdout",
     "output_type": "stream",
     "text": [
      "class 3\n"
     ]
    },
    {
     "data": {
      "image/png": "[encoded data removed]",
      "text/plain": [
       "<Figure size 432x288 with 1 Axes>"
      ]
     },
     "metadata": {
      "needs_background": "light"
     },
     "output_type": "display_data"
    },
    {
     "name": "stdout",
     "output_type": "stream",
     "text": [
      "class 4\n"
     ]
    },
    {
     "data": {
      "image/png": "[encoded data removed]",
      "text/plain": [
       "<Figure size 432x288 with 1 Axes>"
      ]
     },
     "metadata": {
      "needs_background": "light"
     },
     "output_type": "display_data"
    },
    {
     "name": "stdout",
     "output_type": "stream",
     "text": [
      "class 5\n"
     ]
    },
    {
     "data": {
      "image/png": "[encoded data removed]",
      "text/plain": [
       "<Figure size 432x288 with 1 Axes>"
      ]
     },
     "metadata": {
      "needs_background": "light"
     },
     "output_type": "display_data"
    },
    {
     "name": "stdout",
     "output_type": "stream",
     "text": [
      "class 6\n"
     ]
    },
    {
     "data": {
      "image/png": "[encoded data removed]",
      "text/plain": [
       "<Figure size 432x288 with 1 Axes>"
      ]
     },
     "metadata": {
      "needs_background": "light"
     },
     "output_type": "display_data"
    },
    {
     "name": "stdout",
     "output_type": "stream",
     "text": [
      "class 7\n"
     ]
    },
    {
     "data": {
      "image/png": "[encoded data removed]",
      "text/plain": [
       "<Figure size 432x288 with 1 Axes>"
      ]
     },
     "metadata": {
      "needs_background": "light"
     },
     "output_type": "display_data"
    },
    {
     "name": "stdout",
     "output_type": "stream",
     "text": [
      "class 8\n"
     ]
    },
    {
     "data": {
      "image/png": "[encoded data removed]",
      "text/plain": [
       "<Figure size 432x288 with 1 Axes>"
      ]
     },
     "metadata": {
      "needs_background": "light"
     },
     "output_type": "display_data"
    },
    {
     "name": "stdout",
     "output_type": "stream",
     "text": [
      "class 9\n"
     ]
    },
    {
     "data": {
      "image/png": "[encoded data removed]",
      "text/plain": [
       "<Figure size 432x288 with 1 Axes>"
      ]
     },
     "metadata": {
      "needs_background": "light"
     },
     "output_type": "display_data"
    },
    {
     "name": "stdout",
     "output_type": "stream",
     "text": [
      "class 10\n"
     ]
    },
    {
     "data": {
      "image/png": "[encoded data removed]",
      "text/plain": [
       "<Figure size 432x288 with 1 Axes>"
      ]
     },
     "metadata": {
      "needs_background": "light"
     },
     "output_type": "display_data"
    },
    {
     "name": "stdout",
     "output_type": "stream",
     "text": [
      "class 11\n"
     ]
    },
    {
     "data": {
      "image/png": "[encoded data removed]",
      "text/plain": [
       "<Figure size 432x288 with 1 Axes>"
      ]
     },
     "metadata": {
      "needs_background": "light"
     },
     "output_type": "display_data"
    },
    {
     "name": "stdout",
     "output_type": "stream",
     "text": [
      "class 12\n"
     ]
    },
    {
     "data": {
      "image/png": "[encoded data removed]",
      "text/plain": [
       "<Figure size 432x288 with 1 Axes>"
      ]
     },
     "metadata": {
      "needs_background": "light"
     },
     "output_type": "display_data"
    },
    {
     "name": "stdout",
     "output_type": "stream",
     "text": [
      "class 13\n"
     ]
    },
    {
     "data": {
      "image/png": "[encoded data removed]",
      "text/plain": [
       "<Figure size 432x288 with 1 Axes>"
      ]
     },
     "metadata": {
      "needs_background": "light"
     },
     "output_type": "display_data"
    },
    {
     "name": "stdout",
     "output_type": "stream",
     "text": [
      "class 14\n"
     ]
    },
    {
     "data": {
      "image/png": "[encoded data removed]",
      "text/plain": [
       "<Figure size 432x288 with 1 Axes>"
      ]
     },
     "metadata": {
      "needs_background": "light"
     },
     "output_type": "display_data"
    },
    {
     "name": "stdout",
     "output_type": "stream",
     "text": [
      "class 15\n"
     ]
    },
    {
     "data": {
      "image/png": "[encoded data removed]",
      "text/plain": [
       "<Figure size 432x288 with 1 Axes>"
      ]
     },
     "metadata": {
      "needs_background": "light"
     },
     "output_type": "display_data"
    },
    {
     "name": "stdout",
     "output_type": "stream",
     "text": [
      "class 16\n"
     ]
    },
    {
     "data": {
      "image/png": "[encoded data removed]",
      "text/plain": [
       "<Figure size 432x288 with 1 Axes>"
      ]
     },
     "metadata": {
      "needs_background": "light"
     },
     "output_type": "display_data"
    },
    {
     "name": "stdout",
     "output_type": "stream",
     "text": [
      "class 17\n"
     ]
    },
    {
     "data": {
      "image/png": "[encoded data removed]",
      "text/plain": [
       "<Figure size 432x288 with 1 Axes>"
      ]
     },
     "metadata": {
      "needs_background": "light"
     },
     "output_type": "display_data"
    },
    {
     "name": "stdout",
     "output_type": "stream",
     "text": [
      "class 18\n"
     ]
    },
    {
     "data": {
      "image/png": "[encoded data removed]",
      "text/plain": [
       "<Figure size 432x288 with 1 Axes>"
      ]
     },
     "metadata": {
      "needs_background": "light"
     },
     "output_type": "display_data"
    },
    {
     "name": "stdout",
     "output_type": "stream",
     "text": [
      "class 19\n"
     ]
    },
    {
     "data": {
      "image/png": "[encoded data removed]",
      "text/plain": [
       "<Figure size 432x288 with 1 Axes>"
      ]
     },
     "metadata": {
      "needs_background": "light"
     },
     "output_type": "display_data"
    },
    {
     "name": "stdout",
     "output_type": "stream",
     "text": [
      "class 20\n"
     ]
    },
    {
     "data": {
      "image/png": "[encoded data removed]",
      "text/plain": [
       "<Figure size 432x288 with 1 Axes>"
      ]
     },
     "metadata": {
      "needs_background": "light"
     },
     "output_type": "display_data"
    },
    {
     "name": "stdout",
     "output_type": "stream",
     "text": [
      "class 21\n"
     ]
    },
    {
     "data": {
      "image/png": "[encoded data removed]",
      "text/plain": [
       "<Figure size 432x288 with 1 Axes>"
      ]
     },
     "metadata": {
      "needs_background": "light"
     },
     "output_type": "display_data"
    },
    {
     "name": "stdout",
     "output_type": "stream",
     "text": [
      "class 22\n"
     ]
    },
    {
     "data": {
      "image/png": "[encoded data removed]",
      "text/plain": [
       "<Figure size 432x288 with 1 Axes>"
      ]
     },
     "metadata": {
      "needs_background": "light"
     },
     "output_type": "display_data"
    },
    {
     "name": "stdout",
     "output_type": "stream",
     "text": [
      "class 23\n"
     ]
    },
    {
     "data": {
      "image/png": "[encoded data removed]",
      "text/plain": [
       "<Figure size 432x288 with 1 Axes>"
      ]
     },
     "metadata": {
      "needs_background": "light"
     },
     "output_type": "display_data"
    },
    {
     "name": "stdout",
     "output_type": "stream",
     "text": [
      "class 24\n"
     ]
    },
    {
     "data": {
      "image/png": "[encoded data removed]",
      "text/plain": [
       "<Figure size 432x288 with 1 Axes>"
      ]
     },
     "metadata": {
      "needs_background": "light"
     },
     "output_type": "display_data"
    },
    {
     "name": "stdout",
     "output_type": "stream",
     "text": [
      "class 25\n"
     ]
    },
    {
     "data": {
      "image/png": "[encoded data removed]",
      "text/plain": [
       "<Figure size 432x288 with 1 Axes>"
      ]
     },
     "metadata": {
      "needs_background": "light"
     },
     "output_type": "display_data"
    }
   ],
   "source": [
    "shown_classes = []\n",
    "for i in range(len(x)):\n",
    "    if y[i] not in shown_classes:\n",
    "        print('class',y[i])\n",
    "        plt.imshow(np.array(x.loc[i].value).reshape(28,28))\n",
    "        plt.show()\n",
    "        shown_classes.append(y[i])"
   ]
  },
  {
   "cell_type": "markdown",
   "id": "464bde00",
   "metadata": {
    "id": "464bde00"
   },
   "source": [
    "### Deviding into train & test"
   ]
  },
  {
   "cell_type": "code",
   "execution_count": 11,
   "id": "13a241fa",
   "metadata": {
    "id": "13a241fa"
   },
   "outputs": [],
   "source": [
    "x_train, x_test, y_train, y_test = train_test_split(x, y, stratify=y, test_size=0.2)\n",
    "x_train = np.array(list(x_train.value))\n",
    "x_test = np.array(list(x_test.value))"
   ]
  },
  {
   "cell_type": "markdown",
   "id": "eb800f6d",
   "metadata": {
    "id": "eb800f6d"
   },
   "source": [
    "### One hot encoding for y:<br>\n",
    "we are doing it because in the last layer of network we have neurons according to the number of classes. So due to the fact that each neuron must have a output value, we have to assign 0 to these neurons and 1 to the correct neuron."
   ]
  },
  {
   "cell_type": "code",
   "execution_count": 12,
   "id": "fe80eea4",
   "metadata": {
    "id": "fe80eea4"
   },
   "outputs": [],
   "source": [
    "y_train = tf.keras.utils.to_categorical(y_train, len(classes))\n",
    "y_test = tf.keras.utils.to_categorical(y_test, len(classes))"
   ]
  },
  {
   "cell_type": "markdown",
   "id": "9a39e68c",
   "metadata": {
    "id": "9a39e68c"
   },
   "source": [
    "## Phase 2"
   ]
  },
  {
   "cell_type": "markdown",
   "id": "0cd5c4a9",
   "metadata": {
    "id": "0cd5c4a9"
   },
   "source": [
    "### Creating the Model"
   ]
  },
  {
   "cell_type": "code",
   "execution_count": 93,
   "id": "1d4b79f5",
   "metadata": {
    "colab": {
     "base_uri": "https://localhost:8080/"
    },
    "id": "1d4b79f5",
    "outputId": "3744642f-7a63-4b93-f7e7-4838d683757c"
   },
   "outputs": [
    {
     "name": "stdout",
     "output_type": "stream",
     "text": [
      "Model: \"sequential_8\"\n",
      "_________________________________________________________________\n",
      " Layer (type)                Output Shape              Param #   \n",
      "=================================================================\n",
      " flatten_8 (Flatten)         (None, 784)               0         \n",
      "                                                                 \n",
      " dense_24 (Dense)            (None, 200)               157000    \n",
      "                                                                 \n",
      " dropout_16 (Dropout)        (None, 200)               0         \n",
      "                                                                 \n",
      " dense_25 (Dense)            (None, 100)               20100     \n",
      "                                                                 \n",
      " dropout_17 (Dropout)        (None, 100)               0         \n",
      "                                                                 \n",
      " dense_26 (Dense)            (None, 26)                2626      \n",
      "                                                                 \n",
      "=================================================================\n",
      "Total params: 179,726\n",
      "Trainable params: 179,726\n",
      "Non-trainable params: 0\n",
      "_________________________________________________________________\n",
      "None\n"
     ]
    }
   ],
   "source": [
    "model = tf.keras.Sequential()\n",
    "activation_func = 'relu'\n",
    "model.add(layers.Flatten(input_shape = (28*28, 1)))\n",
    "model.add(layers.Dense(200, activation=activation_func))\n",
    "model.add(layers.Dropout(0.25))\n",
    "model.add(layers.Dense(100, activation=activation_func))\n",
    "model.add(layers.Dropout(0.25))\n",
    "#last layer\n",
    "model.add(layers.Dense(len(classes), activation='softmax'))\n",
    "print(model.summary())"
   ]
  },
  {
   "cell_type": "markdown",
   "id": "90d8b8aa",
   "metadata": {
    "id": "90d8b8aa"
   },
   "source": [
    "### Compiling the Model"
   ]
  },
  {
   "cell_type": "code",
   "execution_count": 94,
   "id": "b62e3e96",
   "metadata": {
    "id": "b62e3e96"
   },
   "outputs": [],
   "source": [
    "loss_func = 'categorical_crossentropy'\n",
    "optimizer_func = 'SGD'\n",
    "model.compile(loss=loss_func, optimizer=optimizer_func, metrics=['accuracy'])"
   ]
  },
  {
   "cell_type": "markdown",
   "id": "f3cf92d2",
   "metadata": {},
   "source": [
    "## Phase 3"
   ]
  },
  {
   "cell_type": "markdown",
   "id": "b09e4427",
   "metadata": {},
   "source": [
    "### Normalizing datas"
   ]
  },
  {
   "cell_type": "code",
   "execution_count": 13,
   "id": "826f74dd",
   "metadata": {},
   "outputs": [],
   "source": [
    "x_train = x_train/255\n",
    "x_test = x_test/255"
   ]
  },
  {
   "cell_type": "markdown",
   "id": "1c617f86",
   "metadata": {},
   "source": [
    "### Part 0:"
   ]
  },
  {
   "cell_type": "markdown",
   "id": "7d64038f",
   "metadata": {
    "id": "7d64038f"
   },
   "source": [
    "### Training the Model"
   ]
  },
  {
   "cell_type": "code",
   "execution_count": 96,
   "id": "2994418c",
   "metadata": {
    "id": "2994418c"
   },
   "outputs": [
    {
     "name": "stdout",
     "output_type": "stream",
     "text": [
      "Epoch 1/10\n",
      "9312/9312 [==============================] - 35s 4ms/step - loss: 0.8650 - accuracy: 0.7599 - val_loss: 0.3734 - val_accuracy: 0.8967\n",
      "Epoch 2/10\n",
      "9312/9312 [==============================] - 35s 4ms/step - loss: 0.4322 - accuracy: 0.8791 - val_loss: 0.2592 - val_accuracy: 0.9282\n",
      "Epoch 3/10\n",
      "9312/9312 [==============================] - 37s 4ms/step - loss: 0.3392 - accuracy: 0.9044 - val_loss: 0.2085 - val_accuracy: 0.9423\n",
      "Epoch 4/10\n",
      "9312/9312 [==============================] - 35s 4ms/step - loss: 0.2901 - accuracy: 0.9182 - val_loss: 0.1789 - val_accuracy: 0.9511\n",
      "Epoch 5/10\n",
      "9312/9312 [==============================] - 38s 4ms/step - loss: 0.2589 - accuracy: 0.9269 - val_loss: 0.1595 - val_accuracy: 0.9560\n",
      "Epoch 6/10\n",
      "9312/9312 [==============================] - 33s 4ms/step - loss: 0.2363 - accuracy: 0.9335 - val_loss: 0.1455 - val_accuracy: 0.9602\n",
      "Epoch 7/10\n",
      "9312/9312 [==============================] - 31s 3ms/step - loss: 0.2194 - accuracy: 0.9385 - val_loss: 0.1345 - val_accuracy: 0.9635\n",
      "Epoch 8/10\n",
      "9312/9312 [==============================] - 34s 4ms/step - loss: 0.2072 - accuracy: 0.9411 - val_loss: 0.1267 - val_accuracy: 0.9647\n",
      "Epoch 9/10\n",
      "9312/9312 [==============================] - 31s 3ms/step - loss: 0.1959 - accuracy: 0.9440 - val_loss: 0.1210 - val_accuracy: 0.9667\n",
      "Epoch 10/10\n",
      "9312/9312 [==============================] - 30s 3ms/step - loss: 0.1869 - accuracy: 0.9470 - val_loss: 0.1151 - val_accuracy: 0.9687\n"
     ]
    }
   ],
   "source": [
    "start = datetime.datetime.now()\n",
    "trainedModel = model.fit(x_train, y_train, batch_size=32, epochs=10, validation_data = (x_test, y_test))\n",
    "end = datetime.datetime.now()"
   ]
  },
  {
   "cell_type": "code",
   "execution_count": 97,
   "id": "102654b6",
   "metadata": {
    "id": "102654b6"
   },
   "outputs": [
    {
     "name": "stdout",
     "output_type": "stream",
     "text": [
      "Training Duration:  0:05:39.077062\n"
     ]
    }
   ],
   "source": [
    "print('Training Duration: ', end-start)"
   ]
  },
  {
   "cell_type": "markdown",
   "id": "39211e37",
   "metadata": {
    "id": "33b4f37d"
   },
   "source": [
    "### Evaluating the Model"
   ]
  },
  {
   "cell_type": "code",
   "execution_count": 98,
   "id": "e1ce8ce1",
   "metadata": {},
   "outputs": [
    {
     "data": {
      "text/plain": [
       "<matplotlib.legend.Legend at 0x225bdf35910>"
      ]
     },
     "execution_count": 98,
     "metadata": {},
     "output_type": "execute_result"
    },
    {
     "data": {
      "image/png": "[encoded data removed]",
      "text/plain": [
       "<Figure size 432x288 with 1 Axes>"
      ]
     },
     "metadata": {
      "needs_background": "light"
     },
     "output_type": "display_data"
    },
    {
     "data": {
      "image/png": "[encoded data removed]",
      "text/plain": [
       "<Figure size 432x288 with 1 Axes>"
      ]
     },
     "metadata": {
      "needs_background": "light"
     },
     "output_type": "display_data"
    }
   ],
   "source": [
    "history = trainedModel.history\n",
    "loss = history['loss']\n",
    "val_loss = history['val_loss']\n",
    "acc = history['accuracy']\n",
    "val_acc = history['val_accuracy']\n",
    "\n",
    "plt.xlabel('Epochs')\n",
    "plt.ylabel('loss')\n",
    "plt.plot(loss)\n",
    "plt.plot(val_loss)\n",
    "plt.legend(['loss','val_loss'])\n",
    "plt.figure()\n",
    "plt.xlabel('Epochs')\n",
    "plt.ylabel('accuracy')\n",
    "plt.plot(acc)\n",
    "plt.plot(val_acc)\n",
    "plt.legend(['acc','val_acc'])"
   ]
  },
  {
   "cell_type": "markdown",
   "id": "136d2f46",
   "metadata": {},
   "source": [
    "### Train metrics"
   ]
  },
  {
   "cell_type": "code",
   "execution_count": 99,
   "id": "016a5b80",
   "metadata": {},
   "outputs": [
    {
     "name": "stdout",
     "output_type": "stream",
     "text": [
      "for train data:\n",
      "              precision    recall  f1-score   support\n",
      "\n",
      "           0      0.960     0.978     0.969     11095\n",
      "           1      0.966     0.954     0.960      6934\n",
      "           2      0.976     0.978     0.977     18727\n",
      "           3      0.939     0.921     0.930      8107\n",
      "           4      0.966     0.955     0.960      9152\n",
      "           5      0.969     0.916     0.942       930\n",
      "           6      0.953     0.935     0.944      4610\n",
      "           7      0.951     0.922     0.936      5774\n",
      "           8      0.976     0.912     0.943       896\n",
      "           9      0.946     0.943     0.944      6794\n",
      "          10      0.941     0.924     0.932      4482\n",
      "          11      0.965     0.979     0.972      9269\n",
      "          12      0.971     0.966     0.969      9869\n",
      "          13      0.960     0.972     0.966     15208\n",
      "          14      0.977     0.992     0.984     46260\n",
      "          15      0.982     0.979     0.981     15473\n",
      "          16      0.973     0.909     0.940      4650\n",
      "          17      0.959     0.952     0.956      9253\n",
      "          18      0.989     0.990     0.990     38735\n",
      "          19      0.982     0.988     0.985     17996\n",
      "          20      0.975     0.987     0.981     23207\n",
      "          21      0.968     0.980     0.974      3346\n",
      "          22      0.980     0.947     0.963      8627\n",
      "          23      0.963     0.950     0.956      5018\n",
      "          24      0.961     0.954     0.957      8687\n",
      "          25      0.978     0.960     0.969      4861\n",
      "\n",
      "    accuracy                          0.972    297960\n",
      "   macro avg      0.966     0.955     0.961    297960\n",
      "weighted avg      0.972     0.972     0.972    297960\n",
      "\n"
     ]
    }
   ],
   "source": [
    "# train metrics\n",
    "y_pred = model.predict(x_train)\n",
    "y_pred_temp = []\n",
    "for i in range(len(y_pred)):\n",
    "    pred_index = np.argmax(y_pred[i])\n",
    "    y_pred_temp.append(pred_index)\n",
    "    \n",
    "y_train_temp = []\n",
    "for i in range(len(y_train)):\n",
    "    train_index = np.argmax(y_train[i])\n",
    "    y_train_temp.append(train_index)\n",
    "    \n",
    "#calculating metrics\n",
    "print('for train data:')\n",
    "print(metrics.classification_report(y_train_temp, y_pred_temp, digits=3))"
   ]
  },
  {
   "cell_type": "markdown",
   "id": "ee2ca66c",
   "metadata": {},
   "source": [
    "### Test metrics"
   ]
  },
  {
   "cell_type": "code",
   "execution_count": 100,
   "id": "5dcf2d3e",
   "metadata": {},
   "outputs": [
    {
     "name": "stdout",
     "output_type": "stream",
     "text": [
      "for test data:\n",
      "              precision    recall  f1-score   support\n",
      "\n",
      "           0      0.960     0.973     0.966      2774\n",
      "           1      0.964     0.945     0.954      1734\n",
      "           2      0.974     0.974     0.974      4682\n",
      "           3      0.926     0.921     0.923      2027\n",
      "           4      0.956     0.955     0.955      2288\n",
      "           5      0.963     0.897     0.929       233\n",
      "           6      0.941     0.908     0.924      1152\n",
      "           7      0.946     0.922     0.934      1444\n",
      "           8      0.976     0.911     0.942       224\n",
      "           9      0.946     0.932     0.939      1699\n",
      "          10      0.930     0.933     0.931      1121\n",
      "          11      0.966     0.978     0.972      2317\n",
      "          12      0.960     0.965     0.962      2467\n",
      "          13      0.956     0.968     0.962      3802\n",
      "          14      0.976     0.991     0.983     11565\n",
      "          15      0.981     0.977     0.979      3868\n",
      "          16      0.966     0.886     0.925      1162\n",
      "          17      0.959     0.943     0.951      2313\n",
      "          18      0.987     0.990     0.989      9684\n",
      "          19      0.978     0.988     0.983      4499\n",
      "          20      0.972     0.985     0.978      5801\n",
      "          21      0.976     0.974     0.975       836\n",
      "          22      0.979     0.938     0.958      2157\n",
      "          23      0.956     0.947     0.952      1254\n",
      "          24      0.958     0.950     0.954      2172\n",
      "          25      0.973     0.966     0.969      1215\n",
      "\n",
      "    accuracy                          0.969     74490\n",
      "   macro avg      0.962     0.951     0.956     74490\n",
      "weighted avg      0.969     0.969     0.969     74490\n",
      "\n"
     ]
    }
   ],
   "source": [
    "# test metrics\n",
    "y_pred = model.predict(x_test)\n",
    "y_pred_temp = []\n",
    "for i in range(len(y_pred)):\n",
    "    pred_index = np.argmax(y_pred[i])\n",
    "    y_pred_temp.append(pred_index)\n",
    "    \n",
    "y_test_temp = []\n",
    "for i in range(len(y_test)):\n",
    "    test_index = np.argmax(y_test[i])\n",
    "    y_test_temp.append(test_index)\n",
    "    \n",
    "#calculating metrics\n",
    "print('for test data:')\n",
    "print(metrics.classification_report(y_test_temp, y_pred_temp, digits=3))"
   ]
  },
  {
   "cell_type": "markdown",
   "id": "b9032513",
   "metadata": {},
   "source": [
    "### Using LeakyRelu:"
   ]
  },
  {
   "cell_type": "code",
   "execution_count": 101,
   "id": "8418c862",
   "metadata": {},
   "outputs": [
    {
     "name": "stdout",
     "output_type": "stream",
     "text": [
      "Epoch 1/10\n",
      "9312/9312 [==============================] - 37s 4ms/step - loss: 0.8090 - accuracy: 0.7745 - val_loss: 0.4248 - val_accuracy: 0.8838\n",
      "Epoch 2/10\n",
      "9312/9312 [==============================] - 39s 4ms/step - loss: 0.4627 - accuracy: 0.8711 - val_loss: 0.3221 - val_accuracy: 0.9126\n",
      "Epoch 3/10\n",
      "9312/9312 [==============================] - 34s 4ms/step - loss: 0.3862 - accuracy: 0.8926 - val_loss: 0.2723 - val_accuracy: 0.9257\n",
      "Epoch 4/10\n",
      "9312/9312 [==============================] - 34s 4ms/step - loss: 0.3456 - accuracy: 0.9032 - val_loss: 0.2387 - val_accuracy: 0.9350\n",
      "Epoch 5/10\n",
      "9312/9312 [==============================] - 35s 4ms/step - loss: 0.3171 - accuracy: 0.9109 - val_loss: 0.2170 - val_accuracy: 0.9405\n",
      "Epoch 6/10\n",
      "9312/9312 [==============================] - 33s 4ms/step - loss: 0.2991 - accuracy: 0.9167 - val_loss: 0.2022 - val_accuracy: 0.9442\n",
      "Epoch 7/10\n",
      "9312/9312 [==============================] - 36s 4ms/step - loss: 0.2839 - accuracy: 0.9201 - val_loss: 0.1884 - val_accuracy: 0.9484\n",
      "Epoch 8/10\n",
      "9312/9312 [==============================] - 35s 4ms/step - loss: 0.2704 - accuracy: 0.9239 - val_loss: 0.1767 - val_accuracy: 0.9517\n",
      "Epoch 9/10\n",
      "9312/9312 [==============================] - 33s 4ms/step - loss: 0.2637 - accuracy: 0.9259 - val_loss: 0.1729 - val_accuracy: 0.9521\n",
      "Epoch 10/10\n",
      "9312/9312 [==============================] - 35s 4ms/step - loss: 0.2554 - accuracy: 0.9278 - val_loss: 0.1664 - val_accuracy: 0.9543\n"
     ]
    },
    {
     "data": {
      "text/plain": [
       "<matplotlib.legend.Legend at 0x225c1748880>"
      ]
     },
     "execution_count": 101,
     "metadata": {},
     "output_type": "execute_result"
    },
    {
     "data": {
      "image/png": "[encoded data removed]",
      "text/plain": [
       "<Figure size 432x288 with 1 Axes>"
      ]
     },
     "metadata": {
      "needs_background": "light"
     },
     "output_type": "display_data"
    },
    {
     "data": {
      "image/png": "[encoded data removed]",
      "text/plain": [
       "<Figure size 432x288 with 1 Axes>"
      ]
     },
     "metadata": {
      "needs_background": "light"
     },
     "output_type": "display_data"
    }
   ],
   "source": [
    "#creating the model\n",
    "model = tf.keras.Sequential()\n",
    "activation_func = 'LeakyReLU'\n",
    "model.add(layers.Flatten(input_shape = (28*28, 1)))\n",
    "model.add(layers.Dense(200, activation=activation_func))\n",
    "model.add(layers.Dropout(0.25))\n",
    "model.add(layers.Dense(100, activation=activation_func))\n",
    "model.add(layers.Dropout(0.25))\n",
    "model.add(layers.Dense(len(classes), activation='softmax'))\n",
    "\n",
    "#compiling the model\n",
    "loss_func = 'categorical_crossentropy'\n",
    "optimizer_func = 'SGD'\n",
    "model.compile(loss=loss_func, optimizer=optimizer_func, metrics=['accuracy'])\n",
    "\n",
    "#training the model\n",
    "start = datetime.datetime.now()\n",
    "trainedModel = model.fit(x_train, y_train, batch_size=32, epochs=10, validation_data = (x_test, y_test))\n",
    "end = datetime.datetime.now()\n",
    "\n",
    "print('Training Duration: ', end-start)\n",
    "\n",
    "#evaluating the model\n",
    "history = trainedModel.history\n",
    "loss = history['loss']\n",
    "val_loss = history['val_loss']\n",
    "acc = history['accuracy']\n",
    "val_acc = history['val_accuracy']\n",
    "plt.xlabel('Epochs')\n",
    "plt.ylabel('loss')\n",
    "plt.plot(loss)\n",
    "plt.plot(val_loss)\n",
    "plt.legend(['loss','val_loss'])\n",
    "plt.figure()\n",
    "plt.xlabel('Epochs')\n",
    "plt.ylabel('accuracy')\n",
    "plt.plot(acc)\n",
    "plt.plot(val_acc)\n",
    "plt.legend(['acc','val_acc'])"
   ]
  },
  {
   "cell_type": "code",
   "execution_count": 102,
   "id": "cfd473bf",
   "metadata": {},
   "outputs": [
    {
     "name": "stdout",
     "output_type": "stream",
     "text": [
      "for test data:\n",
      "              precision    recall  f1-score   support\n",
      "\n",
      "           0      0.914     0.961     0.937      2774\n",
      "           1      0.948     0.910     0.929      1734\n",
      "           2      0.965     0.961     0.963      4682\n",
      "           3      0.927     0.841     0.882      2027\n",
      "           4      0.952     0.928     0.940      2288\n",
      "           5      0.932     0.880     0.905       233\n",
      "           6      0.922     0.900     0.911      1152\n",
      "           7      0.916     0.886     0.901      1444\n",
      "           8      0.975     0.866     0.917       224\n",
      "           9      0.914     0.921     0.917      1699\n",
      "          10      0.913     0.895     0.904      1121\n",
      "          11      0.955     0.971     0.963      2317\n",
      "          12      0.936     0.954     0.945      2467\n",
      "          13      0.949     0.945     0.947      3802\n",
      "          14      0.957     0.992     0.974     11565\n",
      "          15      0.961     0.974     0.967      3868\n",
      "          16      0.952     0.848     0.897      1162\n",
      "          17      0.959     0.896     0.927      2313\n",
      "          18      0.986     0.982     0.984      9684\n",
      "          19      0.963     0.986     0.975      4499\n",
      "          20      0.965     0.974     0.970      5801\n",
      "          21      0.961     0.965     0.963       836\n",
      "          22      0.955     0.925     0.940      2157\n",
      "          23      0.946     0.914     0.929      1254\n",
      "          24      0.923     0.942     0.933      2172\n",
      "          25      0.962     0.947     0.955      1215\n",
      "\n",
      "    accuracy                          0.954     74490\n",
      "   macro avg      0.946     0.929     0.937     74490\n",
      "weighted avg      0.954     0.954     0.954     74490\n",
      "\n"
     ]
    }
   ],
   "source": [
    "y_pred = model.predict(x_test)\n",
    "y_pred_temp = []\n",
    "for i in range(len(y_pred)):\n",
    "    pred_index = np.argmax(y_pred[i])\n",
    "    y_pred_temp.append(pred_index)\n",
    "    \n",
    "y_test_temp = []\n",
    "for i in range(len(y_test)):\n",
    "    test_index = np.argmax(y_test[i])\n",
    "    y_test_temp.append(test_index)\n",
    "    \n",
    "#calculating metrics\n",
    "print('for test data:')\n",
    "print(metrics.classification_report(y_test_temp, y_pred_temp, digits=3))"
   ]
  },
  {
   "cell_type": "markdown",
   "id": "c6c5b384",
   "metadata": {},
   "source": [
    "#### So it seems that relu is woring better in this network"
   ]
  },
  {
   "cell_type": "markdown",
   "id": "a4e49d1b",
   "metadata": {},
   "source": [
    "### Part 1 (Optimizer):"
   ]
  },
  {
   "cell_type": "markdown",
   "id": "cde38b92",
   "metadata": {},
   "source": [
    "### Effect of Momentum:<br>\n",
    "Float hyperparameter >= 0 that accelerates gradient descent in the relevant direction and dampens oscillations. Defaults to 0, i.e., vanilla gradient descent. momentum is an easy and quick way to improve upon standard Stochastic Gradient Descent for optimizing Neural Network models.<br> \n",
    "#### Update rule for parameter w with gradient g when momentum is 0:<br>\n",
    "w = w - learning_rate * g<br>\n",
    "<br>\n",
    "#### Update rule when momentum is larger than 0:<br>\n",
    "velocity = momentum * velocity - learning_rate * g<br>\n",
    "w = w + velocity<br>"
   ]
  },
  {
   "cell_type": "markdown",
   "id": "5ddfdb4a",
   "metadata": {},
   "source": [
    "#### Momentum = 0.5"
   ]
  },
  {
   "cell_type": "code",
   "execution_count": 14,
   "id": "21150802",
   "metadata": {},
   "outputs": [
    {
     "name": "stderr",
     "output_type": "stream",
     "text": [
      "C:\\ProgramData\\Anaconda3\\lib\\site-packages\\keras\\optimizer_v2\\gradient_descent.py:102: UserWarning: The `lr` argument is deprecated, use `learning_rate` instead.\n",
      "  super(SGD, self).__init__(name, **kwargs)\n"
     ]
    },
    {
     "name": "stdout",
     "output_type": "stream",
     "text": [
      "Epoch 1/10\n",
      "9312/9312 [==============================] - 30s 3ms/step - loss: 0.6654 - accuracy: 0.8128 - val_loss: 0.2664 - val_accuracy: 0.9265\n",
      "Epoch 2/10\n",
      "9312/9312 [==============================] - 30s 3ms/step - loss: 0.3257 - accuracy: 0.9076 - val_loss: 0.1853 - val_accuracy: 0.9478\n",
      "Epoch 3/10\n",
      "9312/9312 [==============================] - 30s 3ms/step - loss: 0.2579 - accuracy: 0.9271 - val_loss: 0.1541 - val_accuracy: 0.9571\n",
      "Epoch 4/10\n",
      "9312/9312 [==============================] - 30s 3ms/step - loss: 0.2231 - accuracy: 0.9371 - val_loss: 0.1340 - val_accuracy: 0.9627\n",
      "Epoch 5/10\n",
      "9312/9312 [==============================] - 29s 3ms/step - loss: 0.2004 - accuracy: 0.9429 - val_loss: 0.1213 - val_accuracy: 0.9667\n",
      "Epoch 6/10\n",
      "9312/9312 [==============================] - 27s 3ms/step - loss: 0.1847 - accuracy: 0.9475 - val_loss: 0.1137 - val_accuracy: 0.9680\n",
      "Epoch 7/10\n",
      "9312/9312 [==============================] - 31s 3ms/step - loss: 0.1727 - accuracy: 0.9503 - val_loss: 0.1093 - val_accuracy: 0.9695\n",
      "Epoch 8/10\n",
      "9312/9312 [==============================] - 30s 3ms/step - loss: 0.1636 - accuracy: 0.9530 - val_loss: 0.1002 - val_accuracy: 0.9717\n",
      "Epoch 9/10\n",
      "9312/9312 [==============================] - 31s 3ms/step - loss: 0.1555 - accuracy: 0.9549 - val_loss: 0.0952 - val_accuracy: 0.9729\n",
      "Epoch 10/10\n",
      "9312/9312 [==============================] - 37s 4ms/step - loss: 0.1485 - accuracy: 0.9568 - val_loss: 0.0916 - val_accuracy: 0.9740\n",
      "Training Duration:  0:05:06.204843\n"
     ]
    },
    {
     "data": {
      "text/plain": [
       "<matplotlib.legend.Legend at 0x1e1b1c47fa0>"
      ]
     },
     "execution_count": 14,
     "metadata": {},
     "output_type": "execute_result"
    },
    {
     "data": {
      "image/png": "[encoded data removed]",
      "text/plain": [
       "<Figure size 432x288 with 1 Axes>"
      ]
     },
     "metadata": {
      "needs_background": "light"
     },
     "output_type": "display_data"
    },
    {
     "data": {
      "image/png": "[encoded data removed]",
      "text/plain": [
       "<Figure size 432x288 with 1 Axes>"
      ]
     },
     "metadata": {
      "needs_background": "light"
     },
     "output_type": "display_data"
    }
   ],
   "source": [
    "#creating the model\n",
    "model = tf.keras.Sequential()\n",
    "activation_func = 'relu'\n",
    "model.add(layers.Flatten(input_shape = (28*28, 1)))\n",
    "model.add(layers.Dense(200, activation=activation_func))\n",
    "model.add(layers.Dropout(0.25))\n",
    "model.add(layers.Dense(100, activation=activation_func))\n",
    "model.add(layers.Dropout(0.25))\n",
    "model.add(layers.Dense(len(classes), activation='softmax'))\n",
    "\n",
    "#compiling the model\n",
    "loss_func = 'categorical_crossentropy'\n",
    "optimizer_func = tf.keras.optimizers.SGD(lr=0.01, momentum=0.5)\n",
    "model.compile(loss=loss_func, optimizer=optimizer_func, metrics=['accuracy'])\n",
    "\n",
    "#training the model\n",
    "start = datetime.datetime.now()\n",
    "trainedModel = model.fit(x_train, y_train, batch_size=32, epochs=10, validation_data = (x_test, y_test))\n",
    "end = datetime.datetime.now()\n",
    "\n",
    "print('Training Duration: ', end-start)\n",
    "\n",
    "#evaluating the model\n",
    "history = trainedModel.history\n",
    "loss = history['loss']\n",
    "val_loss = history['val_loss']\n",
    "acc = history['accuracy']\n",
    "val_acc = history['val_accuracy']\n",
    "plt.xlabel('Epochs')\n",
    "plt.ylabel('loss')\n",
    "plt.plot(loss)\n",
    "plt.plot(val_loss)\n",
    "plt.legend(['loss','val_loss'])\n",
    "plt.figure()\n",
    "plt.xlabel('Epochs')\n",
    "plt.ylabel('accuracy')\n",
    "plt.plot(acc)\n",
    "plt.plot(val_acc)\n",
    "plt.legend(['acc','val_acc'])"
   ]
  },
  {
   "cell_type": "code",
   "execution_count": 15,
   "id": "2176b3c4",
   "metadata": {},
   "outputs": [
    {
     "name": "stdout",
     "output_type": "stream",
     "text": [
      "for train data:\n",
      "              precision    recall  f1-score   support\n",
      "\n",
      "           0      0.968     0.986     0.977     11095\n",
      "           1      0.970     0.971     0.970      6934\n",
      "           2      0.977     0.984     0.981     18727\n",
      "           3      0.946     0.949     0.947      8107\n",
      "           4      0.979     0.962     0.971      9152\n",
      "           5      0.966     0.942     0.954       930\n",
      "           6      0.975     0.945     0.960      4610\n",
      "           7      0.961     0.942     0.952      5774\n",
      "           8      0.978     0.925     0.951       896\n",
      "           9      0.971     0.949     0.960      6794\n",
      "          10      0.954     0.954     0.954      4482\n",
      "          11      0.979     0.979     0.979      9269\n",
      "          12      0.970     0.983     0.976      9869\n",
      "          13      0.973     0.982     0.977     15208\n",
      "          14      0.986     0.992     0.989     46260\n",
      "          15      0.987     0.983     0.985     15473\n",
      "          16      0.978     0.942     0.960      4650\n",
      "          17      0.971     0.972     0.971      9253\n",
      "          18      0.991     0.994     0.992     38735\n",
      "          19      0.987     0.991     0.989     17996\n",
      "          20      0.983     0.990     0.987     23207\n",
      "          21      0.973     0.989     0.981      3346\n",
      "          22      0.983     0.957     0.970      8627\n",
      "          23      0.980     0.961     0.970      5018\n",
      "          24      0.973     0.967     0.970      8687\n",
      "          25      0.987     0.966     0.976      4861\n",
      "\n",
      "    accuracy                          0.979    297960\n",
      "   macro avg      0.975     0.968     0.971    297960\n",
      "weighted avg      0.979     0.979     0.979    297960\n",
      "\n"
     ]
    }
   ],
   "source": [
    "# train metrics\n",
    "y_pred = model.predict(x_train)\n",
    "y_pred_temp = []\n",
    "for i in range(len(y_pred)):\n",
    "    pred_index = np.argmax(y_pred[i])\n",
    "    y_pred_temp.append(pred_index)\n",
    "    \n",
    "y_train_temp = []\n",
    "for i in range(len(y_train)):\n",
    "    train_index = np.argmax(y_train[i])\n",
    "    y_train_temp.append(train_index)\n",
    "    \n",
    "#calculating metrics\n",
    "print('for train data:')\n",
    "print(metrics.classification_report(y_train_temp, y_pred_temp, digits=3))"
   ]
  },
  {
   "cell_type": "code",
   "execution_count": 16,
   "id": "6338452e",
   "metadata": {},
   "outputs": [
    {
     "name": "stdout",
     "output_type": "stream",
     "text": [
      "for test data:\n",
      "              precision    recall  f1-score   support\n",
      "\n",
      "           0      0.962     0.978     0.970      2774\n",
      "           1      0.963     0.958     0.961      1734\n",
      "           2      0.973     0.982     0.977      4682\n",
      "           3      0.921     0.934     0.927      2027\n",
      "           4      0.971     0.954     0.963      2288\n",
      "           5      0.968     0.918     0.943       233\n",
      "           6      0.971     0.938     0.955      1152\n",
      "           7      0.956     0.929     0.942      1444\n",
      "           8      0.976     0.915     0.945       224\n",
      "           9      0.960     0.936     0.948      1699\n",
      "          10      0.940     0.944     0.942      1121\n",
      "          11      0.980     0.981     0.980      2317\n",
      "          12      0.964     0.976     0.970      2467\n",
      "          13      0.964     0.978     0.971      3802\n",
      "          14      0.982     0.988     0.985     11565\n",
      "          15      0.985     0.981     0.983      3868\n",
      "          16      0.964     0.927     0.945      1162\n",
      "          17      0.954     0.961     0.958      2313\n",
      "          18      0.990     0.991     0.991      9684\n",
      "          19      0.985     0.988     0.987      4499\n",
      "          20      0.979     0.989     0.984      5801\n",
      "          21      0.960     0.983     0.972       836\n",
      "          22      0.982     0.944     0.962      2157\n",
      "          23      0.972     0.963     0.967      1254\n",
      "          24      0.968     0.961     0.964      2172\n",
      "          25      0.983     0.957     0.970      1215\n",
      "\n",
      "    accuracy                          0.974     74490\n",
      "   macro avg      0.968     0.960     0.964     74490\n",
      "weighted avg      0.974     0.974     0.974     74490\n",
      "\n"
     ]
    }
   ],
   "source": [
    "# test metrics\n",
    "y_pred = model.predict(x_test)\n",
    "y_pred_temp = []\n",
    "for i in range(len(y_pred)):\n",
    "    pred_index = np.argmax(y_pred[i])\n",
    "    y_pred_temp.append(pred_index)\n",
    "    \n",
    "y_test_temp = []\n",
    "for i in range(len(y_test)):\n",
    "    test_index = np.argmax(y_test[i])\n",
    "    y_test_temp.append(test_index)\n",
    "    \n",
    "#calculating metrics\n",
    "print('for test data:')\n",
    "print(metrics.classification_report(y_test_temp, y_pred_temp, digits=3))"
   ]
  },
  {
   "cell_type": "markdown",
   "id": "7d4990ab",
   "metadata": {},
   "source": [
    "#### Momentum = 0.9"
   ]
  },
  {
   "cell_type": "code",
   "execution_count": 18,
   "id": "9bdc8543",
   "metadata": {},
   "outputs": [
    {
     "name": "stdout",
     "output_type": "stream",
     "text": [
      "Epoch 1/10\n",
      "9312/9312 [==============================] - 29s 3ms/step - loss: 0.4040 - accuracy: 0.8843 - val_loss: 0.1505 - val_accuracy: 0.9583\n",
      "Epoch 2/10\n",
      "9312/9312 [==============================] - 27s 3ms/step - loss: 0.2172 - accuracy: 0.9371 - val_loss: 0.1215 - val_accuracy: 0.9651\n",
      "Epoch 3/10\n",
      "9312/9312 [==============================] - 30s 3ms/step - loss: 0.1811 - accuracy: 0.9473 - val_loss: 0.1044 - val_accuracy: 0.9696\n",
      "Epoch 4/10\n",
      "9312/9312 [==============================] - 27s 3ms/step - loss: 0.1647 - accuracy: 0.9521 - val_loss: 0.1041 - val_accuracy: 0.9699\n",
      "Epoch 5/10\n",
      "9312/9312 [==============================] - 30s 3ms/step - loss: 0.1519 - accuracy: 0.9553 - val_loss: 0.0924 - val_accuracy: 0.9729\n",
      "Epoch 6/10\n",
      "9312/9312 [==============================] - 29s 3ms/step - loss: 0.1432 - accuracy: 0.9580 - val_loss: 0.0884 - val_accuracy: 0.9742\n",
      "Epoch 7/10\n",
      "9312/9312 [==============================] - 28s 3ms/step - loss: 0.1355 - accuracy: 0.9598 - val_loss: 0.0846 - val_accuracy: 0.9751\n",
      "Epoch 8/10\n",
      "9312/9312 [==============================] - 26s 3ms/step - loss: 0.1322 - accuracy: 0.9610 - val_loss: 0.0801 - val_accuracy: 0.9761\n",
      "Epoch 9/10\n",
      "9312/9312 [==============================] - 26s 3ms/step - loss: 0.1271 - accuracy: 0.9623 - val_loss: 0.0768 - val_accuracy: 0.9773\n",
      "Epoch 10/10\n",
      "9312/9312 [==============================] - 27s 3ms/step - loss: 0.1230 - accuracy: 0.9631 - val_loss: 0.0763 - val_accuracy: 0.9777\n",
      "Training Duration:  0:04:39.811316\n"
     ]
    },
    {
     "data": {
      "text/plain": [
       "<matplotlib.legend.Legend at 0x1e1b29a5eb0>"
      ]
     },
     "execution_count": 18,
     "metadata": {},
     "output_type": "execute_result"
    },
    {
     "data": {
      "image/png": "[encoded data removed]",
      "text/plain": [
       "<Figure size 432x288 with 1 Axes>"
      ]
     },
     "metadata": {
      "needs_background": "light"
     },
     "output_type": "display_data"
    },
    {
     "data": {
      "image/png": "[encoded data removed]",
      "text/plain": [
       "<Figure size 432x288 with 1 Axes>"
      ]
     },
     "metadata": {
      "needs_background": "light"
     },
     "output_type": "display_data"
    }
   ],
   "source": [
    "#creating the model\n",
    "model = tf.keras.Sequential()\n",
    "activation_func = 'relu'\n",
    "model.add(layers.Flatten(input_shape = (28*28, 1)))\n",
    "model.add(layers.Dense(200, activation=activation_func))\n",
    "model.add(layers.Dropout(0.25))\n",
    "model.add(layers.Dense(100, activation=activation_func))\n",
    "model.add(layers.Dropout(0.25))\n",
    "model.add(layers.Dense(len(classes), activation='softmax'))\n",
    "\n",
    "#compiling the model\n",
    "loss_func = 'categorical_crossentropy'\n",
    "optimizer_func = tf.keras.optimizers.SGD(learning_rate=0.01, momentum=0.9)\n",
    "model.compile(loss=loss_func, optimizer=optimizer_func, metrics=['accuracy'])\n",
    "\n",
    "#training the model\n",
    "start = datetime.datetime.now()\n",
    "trainedModel = model.fit(x_train, y_train, batch_size=32, epochs=10, validation_data = (x_test, y_test))\n",
    "end = datetime.datetime.now()\n",
    "\n",
    "print('Training Duration: ', end-start)\n",
    "\n",
    "#evaluating the model\n",
    "history = trainedModel.history\n",
    "loss = history['loss']\n",
    "val_loss = history['val_loss']\n",
    "acc = history['accuracy']\n",
    "val_acc = history['val_accuracy']\n",
    "plt.xlabel('Epochs')\n",
    "plt.ylabel('loss')\n",
    "plt.plot(loss)\n",
    "plt.plot(val_loss)\n",
    "plt.legend(['loss','val_loss'])\n",
    "plt.figure()\n",
    "plt.xlabel('Epochs')\n",
    "plt.ylabel('accuracy')\n",
    "plt.plot(acc)\n",
    "plt.plot(val_acc)\n",
    "plt.legend(['acc','val_acc'])"
   ]
  },
  {
   "cell_type": "code",
   "execution_count": 19,
   "id": "417d865e",
   "metadata": {},
   "outputs": [
    {
     "name": "stdout",
     "output_type": "stream",
     "text": [
      "for train data:\n",
      "              precision    recall  f1-score   support\n",
      "\n",
      "           0      0.973     0.992     0.982     11095\n",
      "           1      0.977     0.981     0.979      6934\n",
      "           2      0.982     0.990     0.986     18727\n",
      "           3      0.929     0.975     0.952      8107\n",
      "           4      0.994     0.967     0.980      9152\n",
      "           5      0.957     0.980     0.968       930\n",
      "           6      0.974     0.968     0.971      4610\n",
      "           7      0.965     0.961     0.963      5774\n",
      "           8      0.991     0.942     0.966       896\n",
      "           9      0.959     0.976     0.968      6794\n",
      "          10      0.974     0.953     0.964      4482\n",
      "          11      0.986     0.982     0.984      9269\n",
      "          12      0.988     0.986     0.987      9869\n",
      "          13      0.979     0.985     0.982     15208\n",
      "          14      0.992     0.986     0.989     46260\n",
      "          15      0.989     0.992     0.990     15473\n",
      "          16      0.983     0.959     0.971      4650\n",
      "          17      0.982     0.973     0.978      9253\n",
      "          18      0.997     0.991     0.994     38735\n",
      "          19      0.987     0.996     0.992     17996\n",
      "          20      0.982     0.994     0.988     23207\n",
      "          21      0.981     0.993     0.987      3346\n",
      "          22      0.993     0.970     0.981      8627\n",
      "          23      0.992     0.962     0.977      5018\n",
      "          24      0.981     0.979     0.980      8687\n",
      "          25      0.984     0.985     0.985      4861\n",
      "\n",
      "    accuracy                          0.984    297960\n",
      "   macro avg      0.980     0.978     0.979    297960\n",
      "weighted avg      0.984     0.984     0.984    297960\n",
      "\n"
     ]
    }
   ],
   "source": [
    "# train metrics\n",
    "y_pred = model.predict(x_train)\n",
    "y_pred_temp = []\n",
    "for i in range(len(y_pred)):\n",
    "    pred_index = np.argmax(y_pred[i])\n",
    "    y_pred_temp.append(pred_index)\n",
    "    \n",
    "y_train_temp = []\n",
    "for i in range(len(y_train)):\n",
    "    train_index = np.argmax(y_train[i])\n",
    "    y_train_temp.append(train_index)\n",
    "    \n",
    "#calculating metrics\n",
    "print('for train data:')\n",
    "print(metrics.classification_report(y_train_temp, y_pred_temp, digits=3))"
   ]
  },
  {
   "cell_type": "code",
   "execution_count": 20,
   "id": "285444fb",
   "metadata": {},
   "outputs": [
    {
     "name": "stdout",
     "output_type": "stream",
     "text": [
      "for test data:\n",
      "              precision    recall  f1-score   support\n",
      "\n",
      "           0      0.959     0.986     0.972      2774\n",
      "           1      0.972     0.965     0.969      1734\n",
      "           2      0.979     0.986     0.982      4682\n",
      "           3      0.907     0.963     0.934      2027\n",
      "           4      0.987     0.960     0.973      2288\n",
      "           5      0.933     0.961     0.947       233\n",
      "           6      0.966     0.956     0.961      1152\n",
      "           7      0.961     0.951     0.956      1444\n",
      "           8      0.995     0.955     0.975       224\n",
      "           9      0.943     0.961     0.952      1699\n",
      "          10      0.960     0.942     0.951      1121\n",
      "          11      0.980     0.980     0.980      2317\n",
      "          12      0.981     0.977     0.979      2467\n",
      "          13      0.966     0.981     0.973      3802\n",
      "          14      0.988     0.982     0.985     11565\n",
      "          15      0.982     0.988     0.985      3868\n",
      "          16      0.972     0.940     0.956      1162\n",
      "          17      0.979     0.953     0.966      2313\n",
      "          18      0.995     0.987     0.991      9684\n",
      "          19      0.985     0.994     0.989      4499\n",
      "          20      0.978     0.991     0.985      5801\n",
      "          21      0.971     0.988     0.979       836\n",
      "          22      0.987     0.953     0.969      2157\n",
      "          23      0.986     0.967     0.977      1254\n",
      "          24      0.972     0.967     0.970      2172\n",
      "          25      0.977     0.976     0.977      1215\n",
      "\n",
      "    accuracy                          0.978     74490\n",
      "   macro avg      0.972     0.970     0.971     74490\n",
      "weighted avg      0.978     0.978     0.978     74490\n",
      "\n"
     ]
    }
   ],
   "source": [
    "# test metrics\n",
    "y_pred = model.predict(x_test)\n",
    "y_pred_temp = []\n",
    "for i in range(len(y_pred)):\n",
    "    pred_index = np.argmax(y_pred[i])\n",
    "    y_pred_temp.append(pred_index)\n",
    "    \n",
    "y_test_temp = []\n",
    "for i in range(len(y_test)):\n",
    "    test_index = np.argmax(y_test[i])\n",
    "    y_test_temp.append(test_index)\n",
    "    \n",
    "#calculating metrics\n",
    "print('for test data:')\n",
    "print(metrics.classification_report(y_test_temp, y_pred_temp, digits=3))"
   ]
  },
  {
   "cell_type": "markdown",
   "id": "e2304a1e",
   "metadata": {},
   "source": [
    "#### Momentum = 0.98"
   ]
  },
  {
   "cell_type": "code",
   "execution_count": 21,
   "id": "199f71cc",
   "metadata": {},
   "outputs": [
    {
     "name": "stdout",
     "output_type": "stream",
     "text": [
      "Epoch 1/10\n",
      "9312/9312 [==============================] - 33s 3ms/step - loss: 0.6843 - accuracy: 0.8152 - val_loss: 0.3462 - val_accuracy: 0.9078\n",
      "Epoch 2/10\n",
      "9312/9312 [==============================] - 31s 3ms/step - loss: 0.5498 - accuracy: 0.8616 - val_loss: 0.3208 - val_accuracy: 0.9153\n",
      "Epoch 3/10\n",
      "9312/9312 [==============================] - 31s 3ms/step - loss: 0.5177 - accuracy: 0.8733 - val_loss: 0.2932 - val_accuracy: 0.9271\n",
      "Epoch 4/10\n",
      "9312/9312 [==============================] - 31s 3ms/step - loss: 0.5001 - accuracy: 0.8795 - val_loss: 0.2958 - val_accuracy: 0.9249\n",
      "Epoch 5/10\n",
      "9312/9312 [==============================] - 28s 3ms/step - loss: 0.5017 - accuracy: 0.8807 - val_loss: 0.2961 - val_accuracy: 0.9276\n",
      "Epoch 6/10\n",
      "9312/9312 [==============================] - 28s 3ms/step - loss: 0.5098 - accuracy: 0.8809 - val_loss: 0.3104 - val_accuracy: 0.9185\n",
      "Epoch 7/10\n",
      "9312/9312 [==============================] - 27s 3ms/step - loss: 0.5106 - accuracy: 0.8820 - val_loss: 0.2917 - val_accuracy: 0.9279\n",
      "Epoch 8/10\n",
      "9312/9312 [==============================] - 27s 3ms/step - loss: 0.5187 - accuracy: 0.8819 - val_loss: 0.3027 - val_accuracy: 0.9247\n",
      "Epoch 9/10\n",
      "9312/9312 [==============================] - 28s 3ms/step - loss: 0.5217 - accuracy: 0.8826 - val_loss: 0.3741 - val_accuracy: 0.9031\n",
      "Epoch 10/10\n",
      "9312/9312 [==============================] - 27s 3ms/step - loss: 0.5367 - accuracy: 0.8799 - val_loss: 0.2986 - val_accuracy: 0.9232\n",
      "Training Duration:  0:04:50.780198\n"
     ]
    },
    {
     "data": {
      "text/plain": [
       "<matplotlib.legend.Legend at 0x1e1b2d6fb80>"
      ]
     },
     "execution_count": 21,
     "metadata": {},
     "output_type": "execute_result"
    },
    {
     "data": {
      "image/png": "[encoded data removed]",
      "text/plain": [
       "<Figure size 432x288 with 1 Axes>"
      ]
     },
     "metadata": {
      "needs_background": "light"
     },
     "output_type": "display_data"
    },
    {
     "data": {
      "image/png": "[encoded data removed]",
      "text/plain": [
       "<Figure size 432x288 with 1 Axes>"
      ]
     },
     "metadata": {
      "needs_background": "light"
     },
     "output_type": "display_data"
    }
   ],
   "source": [
    "#creating the model\n",
    "model = tf.keras.Sequential()\n",
    "activation_func = 'relu'\n",
    "model.add(layers.Flatten(input_shape = (28*28, 1)))\n",
    "model.add(layers.Dense(200, activation=activation_func))\n",
    "model.add(layers.Dropout(0.25))\n",
    "model.add(layers.Dense(100, activation=activation_func))\n",
    "model.add(layers.Dropout(0.25))\n",
    "model.add(layers.Dense(len(classes), activation='softmax'))\n",
    "\n",
    "#compiling the model\n",
    "loss_func = 'categorical_crossentropy'\n",
    "optimizer_func = tf.keras.optimizers.SGD(learning_rate=0.01, momentum=0.98)\n",
    "model.compile(loss=loss_func, optimizer=optimizer_func, metrics=['accuracy'])\n",
    "\n",
    "#training the model\n",
    "start = datetime.datetime.now()\n",
    "trainedModel = model.fit(x_train, y_train, batch_size=32, epochs=10, validation_data = (x_test, y_test))\n",
    "end = datetime.datetime.now()\n",
    "\n",
    "print('Training Duration: ', end-start)\n",
    "\n",
    "#evaluating the model\n",
    "history = trainedModel.history\n",
    "loss = history['loss']\n",
    "val_loss = history['val_loss']\n",
    "acc = history['accuracy']\n",
    "val_acc = history['val_accuracy']\n",
    "plt.xlabel('Epochs')\n",
    "plt.ylabel('loss')\n",
    "plt.plot(loss)\n",
    "plt.plot(val_loss)\n",
    "plt.legend(['loss','val_loss'])\n",
    "plt.figure()\n",
    "plt.xlabel('Epochs')\n",
    "plt.ylabel('accuracy')\n",
    "plt.plot(acc)\n",
    "plt.plot(val_acc)\n",
    "plt.legend(['acc','val_acc'])"
   ]
  },
  {
   "cell_type": "code",
   "execution_count": 23,
   "id": "007d09d0",
   "metadata": {},
   "outputs": [
    {
     "name": "stdout",
     "output_type": "stream",
     "text": [
      "for train data:\n",
      "              precision    recall  f1-score   support\n",
      "\n",
      "           0      0.896     0.917     0.906     11095\n",
      "           1      0.975     0.794     0.875      6934\n",
      "           2      0.957     0.940     0.948     18727\n",
      "           3      0.928     0.761     0.836      8107\n",
      "           4      0.885     0.919     0.902      9152\n",
      "           5      0.956     0.802     0.873       930\n",
      "           6      0.949     0.798     0.867      4610\n",
      "           7      0.876     0.837     0.856      5774\n",
      "           8      0.925     0.790     0.852       896\n",
      "           9      0.887     0.744     0.809      6794\n",
      "          10      0.847     0.892     0.869      4482\n",
      "          11      0.975     0.954     0.964      9269\n",
      "          12      0.959     0.924     0.941      9869\n",
      "          13      0.905     0.927     0.916     15208\n",
      "          14      0.925     0.989     0.956     46260\n",
      "          15      0.977     0.937     0.956     15473\n",
      "          16      0.963     0.798     0.873      4650\n",
      "          17      0.920     0.865     0.892      9253\n",
      "          18      0.966     0.975     0.970     38735\n",
      "          19      0.775     0.995     0.871     17996\n",
      "          20      0.965     0.965     0.965     23207\n",
      "          21      0.970     0.941     0.955      3346\n",
      "          22      0.968     0.878     0.921      8627\n",
      "          23      0.938     0.903     0.920      5018\n",
      "          24      0.954     0.876     0.914      8687\n",
      "          25      0.953     0.936     0.944      4861\n",
      "\n",
      "    accuracy                          0.928    297960\n",
      "   macro avg      0.931     0.887     0.906    297960\n",
      "weighted avg      0.931     0.928     0.927    297960\n",
      "\n"
     ]
    }
   ],
   "source": [
    "# train metrics\n",
    "y_pred = model.predict(x_train)\n",
    "y_pred_temp = []\n",
    "for i in range(len(y_pred)):\n",
    "    pred_index = np.argmax(y_pred[i])\n",
    "    y_pred_temp.append(pred_index)\n",
    "    \n",
    "y_train_temp = []\n",
    "for i in range(len(y_train)):\n",
    "    train_index = np.argmax(y_train[i])\n",
    "    y_train_temp.append(train_index)\n",
    "    \n",
    "#calculating metrics\n",
    "print('for train data:')\n",
    "print(metrics.classification_report(y_train_temp, y_pred_temp, digits=3))"
   ]
  },
  {
   "cell_type": "code",
   "execution_count": 24,
   "id": "8ce46f86",
   "metadata": {},
   "outputs": [
    {
     "name": "stdout",
     "output_type": "stream",
     "text": [
      "for test data:\n",
      "              precision    recall  f1-score   support\n",
      "\n",
      "           0      0.880     0.919     0.899      2774\n",
      "           1      0.972     0.777     0.864      1734\n",
      "           2      0.955     0.940     0.947      4682\n",
      "           3      0.915     0.756     0.828      2027\n",
      "           4      0.879     0.914     0.896      2288\n",
      "           5      0.932     0.708     0.805       233\n",
      "           6      0.946     0.803     0.869      1152\n",
      "           7      0.875     0.825     0.849      1444\n",
      "           8      0.896     0.804     0.847       224\n",
      "           9      0.877     0.739     0.802      1699\n",
      "          10      0.838     0.888     0.862      1121\n",
      "          11      0.969     0.956     0.962      2317\n",
      "          12      0.954     0.919     0.936      2467\n",
      "          13      0.889     0.926     0.907      3802\n",
      "          14      0.926     0.988     0.956     11565\n",
      "          15      0.980     0.932     0.955      3868\n",
      "          16      0.959     0.815     0.881      1162\n",
      "          17      0.917     0.856     0.885      2313\n",
      "          18      0.966     0.971     0.969      9684\n",
      "          19      0.766     0.993     0.865      4499\n",
      "          20      0.965     0.962     0.964      5801\n",
      "          21      0.954     0.920     0.937       836\n",
      "          22      0.963     0.844     0.900      2157\n",
      "          23      0.937     0.906     0.921      1254\n",
      "          24      0.949     0.860     0.902      2172\n",
      "          25      0.943     0.929     0.936      1215\n",
      "\n",
      "    accuracy                          0.923     74490\n",
      "   macro avg      0.923     0.879     0.898     74490\n",
      "weighted avg      0.927     0.923     0.923     74490\n",
      "\n"
     ]
    }
   ],
   "source": [
    "# test metrics\n",
    "y_pred = model.predict(x_test)\n",
    "y_pred_temp = []\n",
    "for i in range(len(y_pred)):\n",
    "    pred_index = np.argmax(y_pred[i])\n",
    "    y_pred_temp.append(pred_index)\n",
    "    \n",
    "y_test_temp = []\n",
    "for i in range(len(y_test)):\n",
    "    test_index = np.argmax(y_test[i])\n",
    "    y_test_temp.append(test_index)\n",
    "    \n",
    "#calculating metrics\n",
    "print('for test data:')\n",
    "print(metrics.classification_report(y_test_temp, y_pred_temp, digits=3))"
   ]
  },
  {
   "cell_type": "markdown",
   "id": "b2113642",
   "metadata": {},
   "source": [
    "It is obvious that with using momentum, the training decreased and the accuracy increased!<br>\n",
    "Between three momentum that we analyzed the best one was momentum=0.9<br>\n",
    "For momentum = 0.5 & 0.98 results was not satisfying!<br>\n",
    "Here is the link to why momentum=0.9 is better: https://towardsdatascience.com/why-0-9-towards-better-momentum-strategies-in-deep-learning-827408503650"
   ]
  },
  {
   "cell_type": "markdown",
   "id": "b596fe4a",
   "metadata": {},
   "source": [
    "### Adam Optimizer"
   ]
  },
  {
   "cell_type": "code",
   "execution_count": 25,
   "id": "47cbdbae",
   "metadata": {},
   "outputs": [
    {
     "name": "stdout",
     "output_type": "stream",
     "text": [
      "Epoch 1/10\n",
      "9312/9312 [==============================] - 33s 4ms/step - loss: 0.3632 - accuracy: 0.8962 - val_loss: 0.1379 - val_accuracy: 0.9601\n",
      "Epoch 2/10\n",
      "9312/9312 [==============================] - 32s 3ms/step - loss: 0.2063 - accuracy: 0.9407 - val_loss: 0.1168 - val_accuracy: 0.9664\n",
      "Epoch 3/10\n",
      "9312/9312 [==============================] - 28s 3ms/step - loss: 0.1803 - accuracy: 0.9480 - val_loss: 0.1009 - val_accuracy: 0.9720\n",
      "Epoch 4/10\n",
      "9312/9312 [==============================] - 27s 3ms/step - loss: 0.1667 - accuracy: 0.9516 - val_loss: 0.0956 - val_accuracy: 0.9724\n",
      "Epoch 5/10\n",
      "9312/9312 [==============================] - 28s 3ms/step - loss: 0.1567 - accuracy: 0.9547 - val_loss: 0.0930 - val_accuracy: 0.9734\n",
      "Epoch 6/10\n",
      "9312/9312 [==============================] - 27s 3ms/step - loss: 0.1490 - accuracy: 0.9570 - val_loss: 0.0857 - val_accuracy: 0.9752\n",
      "Epoch 7/10\n",
      "9312/9312 [==============================] - 27s 3ms/step - loss: 0.1446 - accuracy: 0.9583 - val_loss: 0.0849 - val_accuracy: 0.9756\n",
      "Epoch 8/10\n",
      "9312/9312 [==============================] - 27s 3ms/step - loss: 0.1398 - accuracy: 0.9597 - val_loss: 0.0811 - val_accuracy: 0.9763\n",
      "Epoch 9/10\n",
      "9312/9312 [==============================] - 27s 3ms/step - loss: 0.1368 - accuracy: 0.9606 - val_loss: 0.0807 - val_accuracy: 0.9768\n",
      "Epoch 10/10\n",
      "9312/9312 [==============================] - 29s 3ms/step - loss: 0.1332 - accuracy: 0.9618 - val_loss: 0.0806 - val_accuracy: 0.9773\n",
      "Training Duration:  0:04:45.467823\n"
     ]
    },
    {
     "data": {
      "text/plain": [
       "<matplotlib.legend.Legend at 0x1e11f4e0760>"
      ]
     },
     "execution_count": 25,
     "metadata": {},
     "output_type": "execute_result"
    },
    {
     "data": {
      "image/png": "[encoded data removed]",
      "text/plain": [
       "<Figure size 432x288 with 1 Axes>"
      ]
     },
     "metadata": {
      "needs_background": "light"
     },
     "output_type": "display_data"
    },
    {
     "data": {
      "image/png": "[encoded data removed]",
      "text/plain": [
       "<Figure size 432x288 with 1 Axes>"
      ]
     },
     "metadata": {
      "needs_background": "light"
     },
     "output_type": "display_data"
    }
   ],
   "source": [
    "#creating the model\n",
    "model = tf.keras.Sequential()\n",
    "activation_func = 'relu'\n",
    "model.add(layers.Flatten(input_shape = (28*28, 1)))\n",
    "model.add(layers.Dense(200, activation=activation_func))\n",
    "model.add(layers.Dropout(0.25))\n",
    "model.add(layers.Dense(100, activation=activation_func))\n",
    "model.add(layers.Dropout(0.25))\n",
    "model.add(layers.Dense(len(classes), activation='softmax'))\n",
    "\n",
    "#compiling the model\n",
    "loss_func = 'categorical_crossentropy'\n",
    "optimizer_func = tf.keras.optimizers.Adam(learning_rate=0.001)\n",
    "model.compile(loss=loss_func, optimizer=optimizer_func, metrics=['accuracy'])\n",
    "\n",
    "#training the model\n",
    "start = datetime.datetime.now()\n",
    "trainedModel = model.fit(x_train, y_train, batch_size=32, epochs=10, validation_data = (x_test, y_test))\n",
    "end = datetime.datetime.now()\n",
    "\n",
    "print('Training Duration: ', end-start)\n",
    "\n",
    "#evaluating the model\n",
    "history = trainedModel.history\n",
    "loss = history['loss']\n",
    "val_loss = history['val_loss']\n",
    "acc = history['accuracy']\n",
    "val_acc = history['val_accuracy']\n",
    "plt.xlabel('Epochs')\n",
    "plt.ylabel('loss')\n",
    "plt.plot(loss)\n",
    "plt.plot(val_loss)\n",
    "plt.legend(['loss','val_loss'])\n",
    "plt.figure()\n",
    "plt.xlabel('Epochs')\n",
    "plt.ylabel('accuracy')\n",
    "plt.plot(acc)\n",
    "plt.plot(val_acc)\n",
    "plt.legend(['acc','val_acc'])"
   ]
  },
  {
   "cell_type": "code",
   "execution_count": 26,
   "id": "33271d6e",
   "metadata": {},
   "outputs": [
    {
     "name": "stdout",
     "output_type": "stream",
     "text": [
      "for train data:\n",
      "              precision    recall  f1-score   support\n",
      "\n",
      "           0      0.977     0.991     0.984     11095\n",
      "           1      0.984     0.956     0.970      6934\n",
      "           2      0.974     0.992     0.983     18727\n",
      "           3      0.955     0.958     0.957      8107\n",
      "           4      0.981     0.974     0.977      9152\n",
      "           5      0.925     0.985     0.954       930\n",
      "           6      0.976     0.958     0.967      4610\n",
      "           7      0.972     0.955     0.964      5774\n",
      "           8      0.990     0.958     0.973       896\n",
      "           9      0.980     0.949     0.964      6794\n",
      "          10      0.957     0.971     0.964      4482\n",
      "          11      0.983     0.983     0.983      9269\n",
      "          12      0.986     0.987     0.986      9869\n",
      "          13      0.977     0.986     0.981     15208\n",
      "          14      0.989     0.989     0.989     46260\n",
      "          15      0.992     0.990     0.991     15473\n",
      "          16      0.984     0.960     0.972      4650\n",
      "          17      0.980     0.970     0.975      9253\n",
      "          18      0.990     0.996     0.993     38735\n",
      "          19      0.990     0.995     0.992     17996\n",
      "          20      0.990     0.991     0.990     23207\n",
      "          21      0.989     0.981     0.985      3346\n",
      "          22      0.989     0.970     0.979      8627\n",
      "          23      0.982     0.977     0.979      5018\n",
      "          24      0.982     0.983     0.982      8687\n",
      "          25      0.984     0.987     0.986      4861\n",
      "\n",
      "    accuracy                          0.984    297960\n",
      "   macro avg      0.979     0.977     0.978    297960\n",
      "weighted avg      0.984     0.984     0.984    297960\n",
      "\n"
     ]
    }
   ],
   "source": [
    "# train metrics\n",
    "y_pred = model.predict(x_train)\n",
    "y_pred_temp = []\n",
    "for i in range(len(y_pred)):\n",
    "    pred_index = np.argmax(y_pred[i])\n",
    "    y_pred_temp.append(pred_index)\n",
    "    \n",
    "y_train_temp = []\n",
    "for i in range(len(y_train)):\n",
    "    train_index = np.argmax(y_train[i])\n",
    "    y_train_temp.append(train_index)\n",
    "    \n",
    "#calculating metrics\n",
    "print('for train data:')\n",
    "print(metrics.classification_report(y_train_temp, y_pred_temp, digits=3))"
   ]
  },
  {
   "cell_type": "code",
   "execution_count": 27,
   "id": "203f5f9d",
   "metadata": {},
   "outputs": [
    {
     "name": "stdout",
     "output_type": "stream",
     "text": [
      "for test data:\n",
      "              precision    recall  f1-score   support\n",
      "\n",
      "           0      0.964     0.984     0.974      2774\n",
      "           1      0.980     0.946     0.963      1734\n",
      "           2      0.969     0.988     0.978      4682\n",
      "           3      0.932     0.938     0.935      2027\n",
      "           4      0.976     0.958     0.967      2288\n",
      "           5      0.915     0.966     0.939       233\n",
      "           6      0.972     0.952     0.962      1152\n",
      "           7      0.962     0.940     0.951      1444\n",
      "           8      0.991     0.951     0.970       224\n",
      "           9      0.962     0.931     0.946      1699\n",
      "          10      0.944     0.963     0.954      1121\n",
      "          11      0.980     0.981     0.980      2317\n",
      "          12      0.980     0.978     0.979      2467\n",
      "          13      0.967     0.983     0.975      3802\n",
      "          14      0.986     0.985     0.985     11565\n",
      "          15      0.987     0.985     0.986      3868\n",
      "          16      0.980     0.948     0.964      1162\n",
      "          17      0.971     0.955     0.963      2313\n",
      "          18      0.986     0.994     0.990      9684\n",
      "          19      0.985     0.993     0.989      4499\n",
      "          20      0.987     0.987     0.987      5801\n",
      "          21      0.975     0.978     0.977       836\n",
      "          22      0.983     0.953     0.968      2157\n",
      "          23      0.969     0.974     0.972      1254\n",
      "          24      0.976     0.973     0.975      2172\n",
      "          25      0.979     0.979     0.979      1215\n",
      "\n",
      "    accuracy                          0.977     74490\n",
      "   macro avg      0.971     0.968     0.970     74490\n",
      "weighted avg      0.977     0.977     0.977     74490\n",
      "\n"
     ]
    }
   ],
   "source": [
    "# test metrics\n",
    "y_pred = model.predict(x_test)\n",
    "y_pred_temp = []\n",
    "for i in range(len(y_pred)):\n",
    "    pred_index = np.argmax(y_pred[i])\n",
    "    y_pred_temp.append(pred_index)\n",
    "    \n",
    "y_test_temp = []\n",
    "for i in range(len(y_test)):\n",
    "    test_index = np.argmax(y_test[i])\n",
    "    y_test_temp.append(test_index)\n",
    "    \n",
    "#calculating metrics\n",
    "print('for test data:')\n",
    "print(metrics.classification_report(y_test_temp, y_pred_temp, digits=3))"
   ]
  },
  {
   "cell_type": "markdown",
   "id": "6e732861",
   "metadata": {},
   "source": [
    "Accuracy for Adam ==> 0.977<br>\n",
    "Accuracy for SGD with Momentum=0.9 ==> 0.978<br>"
   ]
  },
  {
   "cell_type": "markdown",
   "id": "be2c1a73",
   "metadata": {},
   "source": [
    "### Part 2(epoch):"
   ]
  },
  {
   "cell_type": "code",
   "execution_count": 28,
   "id": "c5729154",
   "metadata": {},
   "outputs": [
    {
     "name": "stdout",
     "output_type": "stream",
     "text": [
      "Epoch 1/20\n",
      "9312/9312 [==============================] - 31s 3ms/step - loss: 0.3571 - accuracy: 0.8977 - val_loss: 0.1448 - val_accuracy: 0.9586\n",
      "Epoch 2/20\n",
      "9312/9312 [==============================] - 33s 4ms/step - loss: 0.2053 - accuracy: 0.9411 - val_loss: 0.1124 - val_accuracy: 0.9677\n",
      "Epoch 3/20\n",
      "9312/9312 [==============================] - 33s 4ms/step - loss: 0.1795 - accuracy: 0.9486 - val_loss: 0.1048 - val_accuracy: 0.9702\n",
      "Epoch 4/20\n",
      "9312/9312 [==============================] - 31s 3ms/step - loss: 0.1646 - accuracy: 0.9519 - val_loss: 0.0959 - val_accuracy: 0.9725\n",
      "Epoch 5/20\n",
      "9312/9312 [==============================] - 34s 4ms/step - loss: 0.1562 - accuracy: 0.9551 - val_loss: 0.0928 - val_accuracy: 0.9739\n",
      "Epoch 6/20\n",
      "9312/9312 [==============================] - 33s 4ms/step - loss: 0.1492 - accuracy: 0.9566 - val_loss: 0.0934 - val_accuracy: 0.9729\n",
      "Epoch 7/20\n",
      "9312/9312 [==============================] - 30s 3ms/step - loss: 0.1445 - accuracy: 0.9581 - val_loss: 0.0899 - val_accuracy: 0.9744\n",
      "Epoch 8/20\n",
      "9312/9312 [==============================] - 32s 3ms/step - loss: 0.1414 - accuracy: 0.9589 - val_loss: 0.0883 - val_accuracy: 0.9748\n",
      "Epoch 9/20\n",
      "9312/9312 [==============================] - 27s 3ms/step - loss: 0.1368 - accuracy: 0.9605 - val_loss: 0.0900 - val_accuracy: 0.9748\n",
      "Epoch 10/20\n",
      "9312/9312 [==============================] - 28s 3ms/step - loss: 0.1346 - accuracy: 0.9611 - val_loss: 0.0863 - val_accuracy: 0.9755\n",
      "Epoch 11/20\n",
      "9312/9312 [==============================] - 32s 3ms/step - loss: 0.1323 - accuracy: 0.9620 - val_loss: 0.0784 - val_accuracy: 0.9784\n",
      "Epoch 12/20\n",
      "9312/9312 [==============================] - 29s 3ms/step - loss: 0.1294 - accuracy: 0.9628 - val_loss: 0.0789 - val_accuracy: 0.9784\n",
      "Epoch 13/20\n",
      "9312/9312 [==============================] - 27s 3ms/step - loss: 0.1274 - accuracy: 0.9634 - val_loss: 0.0787 - val_accuracy: 0.9778\n",
      "Epoch 14/20\n",
      "9312/9312 [==============================] - 31s 3ms/step - loss: 0.1267 - accuracy: 0.9637 - val_loss: 0.0749 - val_accuracy: 0.9792\n",
      "Epoch 15/20\n",
      "9312/9312 [==============================] - 33s 4ms/step - loss: 0.1251 - accuracy: 0.9639 - val_loss: 0.0723 - val_accuracy: 0.9795\n",
      "Epoch 16/20\n",
      "9312/9312 [==============================] - 30s 3ms/step - loss: 0.1224 - accuracy: 0.9647 - val_loss: 0.0748 - val_accuracy: 0.9789\n",
      "Epoch 17/20\n",
      "9312/9312 [==============================] - 31s 3ms/step - loss: 0.1213 - accuracy: 0.9644 - val_loss: 0.0750 - val_accuracy: 0.9792\n",
      "Epoch 18/20\n",
      "9312/9312 [==============================] - 33s 4ms/step - loss: 0.1195 - accuracy: 0.9661 - val_loss: 0.0752 - val_accuracy: 0.9788\n",
      "Epoch 19/20\n",
      "9312/9312 [==============================] - 34s 4ms/step - loss: 0.1201 - accuracy: 0.9658 - val_loss: 0.0754 - val_accuracy: 0.9801\n",
      "Epoch 20/20\n",
      "9312/9312 [==============================] - 33s 4ms/step - loss: 0.1188 - accuracy: 0.9658 - val_loss: 0.0736 - val_accuracy: 0.9793\n",
      "Training Duration:  0:10:23.458328\n"
     ]
    },
    {
     "data": {
      "text/plain": [
       "<matplotlib.legend.Legend at 0x1e192b299d0>"
      ]
     },
     "execution_count": 28,
     "metadata": {},
     "output_type": "execute_result"
    },
    {
     "data": {
      "image/png": "[encoded data removed]",
      "text/plain": [
       "<Figure size 432x288 with 1 Axes>"
      ]
     },
     "metadata": {
      "needs_background": "light"
     },
     "output_type": "display_data"
    },
    {
     "data": {
      "image/png": "[encoded data removed]",
      "text/plain": [
       "<Figure size 432x288 with 1 Axes>"
      ]
     },
     "metadata": {
      "needs_background": "light"
     },
     "output_type": "display_data"
    }
   ],
   "source": [
    "#creating the model\n",
    "model = tf.keras.Sequential()\n",
    "activation_func = 'relu'\n",
    "model.add(layers.Flatten(input_shape = (28*28, 1)))\n",
    "model.add(layers.Dense(200, activation=activation_func))\n",
    "model.add(layers.Dropout(0.25))\n",
    "model.add(layers.Dense(100, activation=activation_func))\n",
    "model.add(layers.Dropout(0.25))\n",
    "model.add(layers.Dense(len(classes), activation='softmax'))\n",
    "\n",
    "#compiling the model\n",
    "loss_func = 'categorical_crossentropy'\n",
    "optimizer_func = tf.keras.optimizers.Adam(learning_rate=0.001)\n",
    "model.compile(loss=loss_func, optimizer=optimizer_func, metrics=['accuracy'])\n",
    "\n",
    "#training the model\n",
    "start = datetime.datetime.now()\n",
    "trainedModel = model.fit(x_train, y_train, batch_size=32, epochs=20, validation_data = (x_test, y_test))\n",
    "end = datetime.datetime.now()\n",
    "\n",
    "print('Training Duration: ', end-start)\n",
    "\n",
    "#evaluating the model\n",
    "history = trainedModel.history\n",
    "loss = history['loss']\n",
    "val_loss = history['val_loss']\n",
    "acc = history['accuracy']\n",
    "val_acc = history['val_accuracy']\n",
    "plt.xlabel('Epochs')\n",
    "plt.ylabel('loss')\n",
    "plt.plot(loss)\n",
    "plt.plot(val_loss)\n",
    "plt.legend(['loss','val_loss'])\n",
    "plt.figure()\n",
    "plt.xlabel('Epochs')\n",
    "plt.ylabel('accuracy')\n",
    "plt.plot(acc)\n",
    "plt.plot(val_acc)\n",
    "plt.legend(['acc','val_acc'])"
   ]
  },
  {
   "cell_type": "code",
   "execution_count": 29,
   "id": "f356e49a",
   "metadata": {},
   "outputs": [
    {
     "name": "stdout",
     "output_type": "stream",
     "text": [
      "for train data:\n",
      "              precision    recall  f1-score   support\n",
      "\n",
      "           0      0.987     0.992     0.989     11095\n",
      "           1      0.981     0.983     0.982      6934\n",
      "           2      0.984     0.993     0.989     18727\n",
      "           3      0.936     0.981     0.958      8107\n",
      "           4      0.981     0.985     0.983      9152\n",
      "           5      0.988     0.966     0.977       930\n",
      "           6      0.981     0.973     0.977      4610\n",
      "           7      0.957     0.979     0.968      5774\n",
      "           8      0.976     0.982     0.979       896\n",
      "           9      0.965     0.977     0.971      6794\n",
      "          10      0.977     0.967     0.972      4482\n",
      "          11      0.989     0.986     0.987      9269\n",
      "          12      0.991     0.984     0.987      9869\n",
      "          13      0.986     0.985     0.986     15208\n",
      "          14      0.995     0.985     0.990     46260\n",
      "          15      0.994     0.989     0.991     15473\n",
      "          16      0.971     0.977     0.974      4650\n",
      "          17      0.992     0.973     0.982      9253\n",
      "          18      0.998     0.992     0.995     38735\n",
      "          19      0.986     0.997     0.991     17996\n",
      "          20      0.985     0.994     0.989     23207\n",
      "          21      0.979     0.996     0.988      3346\n",
      "          22      0.990     0.976     0.983      8627\n",
      "          23      0.987     0.982     0.984      5018\n",
      "          24      0.984     0.978     0.981      8687\n",
      "          25      0.992     0.986     0.989      4861\n",
      "\n",
      "    accuracy                          0.986    297960\n",
      "   macro avg      0.982     0.983     0.982    297960\n",
      "weighted avg      0.987     0.986     0.986    297960\n",
      "\n"
     ]
    }
   ],
   "source": [
    "# train metrics\n",
    "y_pred = model.predict(x_train)\n",
    "y_pred_temp = []\n",
    "for i in range(len(y_pred)):\n",
    "    pred_index = np.argmax(y_pred[i])\n",
    "    y_pred_temp.append(pred_index)\n",
    "    \n",
    "y_train_temp = []\n",
    "for i in range(len(y_train)):\n",
    "    train_index = np.argmax(y_train[i])\n",
    "    y_train_temp.append(train_index)\n",
    "    \n",
    "#calculating metrics\n",
    "print('for train data:')\n",
    "print(metrics.classification_report(y_train_temp, y_pred_temp, digits=3))"
   ]
  },
  {
   "cell_type": "code",
   "execution_count": 30,
   "id": "a788bd59",
   "metadata": {},
   "outputs": [
    {
     "name": "stdout",
     "output_type": "stream",
     "text": [
      "for test data:\n",
      "              precision    recall  f1-score   support\n",
      "\n",
      "           0      0.977     0.982     0.980      2774\n",
      "           1      0.976     0.965     0.970      1734\n",
      "           2      0.979     0.990     0.984      4682\n",
      "           3      0.905     0.969     0.936      2027\n",
      "           4      0.972     0.969     0.970      2288\n",
      "           5      0.987     0.948     0.967       233\n",
      "           6      0.977     0.967     0.972      1152\n",
      "           7      0.947     0.967     0.957      1444\n",
      "           8      0.956     0.978     0.967       224\n",
      "           9      0.937     0.968     0.952      1699\n",
      "          10      0.963     0.962     0.962      1121\n",
      "          11      0.981     0.985     0.983      2317\n",
      "          12      0.986     0.973     0.979      2467\n",
      "          13      0.977     0.983     0.980      3802\n",
      "          14      0.991     0.979     0.985     11565\n",
      "          15      0.989     0.984     0.987      3868\n",
      "          16      0.969     0.961     0.965      1162\n",
      "          17      0.987     0.963     0.975      2313\n",
      "          18      0.996     0.987     0.992      9684\n",
      "          19      0.979     0.995     0.987      4499\n",
      "          20      0.980     0.991     0.986      5801\n",
      "          21      0.955     0.989     0.972       836\n",
      "          22      0.988     0.960     0.973      2157\n",
      "          23      0.978     0.974     0.976      1254\n",
      "          24      0.972     0.962     0.967      2172\n",
      "          25      0.987     0.974     0.981      1215\n",
      "\n",
      "    accuracy                          0.979     74490\n",
      "   macro avg      0.973     0.974     0.973     74490\n",
      "weighted avg      0.980     0.979     0.979     74490\n",
      "\n"
     ]
    }
   ],
   "source": [
    "# test metrics\n",
    "y_pred = model.predict(x_test)\n",
    "y_pred_temp = []\n",
    "for i in range(len(y_pred)):\n",
    "    pred_index = np.argmax(y_pred[i])\n",
    "    y_pred_temp.append(pred_index)\n",
    "    \n",
    "y_test_temp = []\n",
    "for i in range(len(y_test)):\n",
    "    test_index = np.argmax(y_test[i])\n",
    "    y_test_temp.append(test_index)\n",
    "    \n",
    "#calculating metrics\n",
    "print('for test data:')\n",
    "print(metrics.classification_report(y_test_temp, y_pred_temp, digits=3))"
   ]
  },
  {
   "cell_type": "markdown",
   "id": "c7daef80",
   "metadata": {},
   "source": [
    "As we can see we had a little improvement in accuracy<br><br>\n",
    "The number of epochs is a hyperparameter that defines the number times that the learning algorithm will work through the entire training dataset. One epoch means that each sample in the training dataset has had an opportunity to update the internal model parameters.<br>\n",
    "Exactly like humans when we want to learn a book we read it more than once, the Network need to iterate on a dataset more than once to update its weights so it can increase its accuracy.<br><br>\n",
    "\n",
    "Using mode epochs is not helpful allways! it could result in overfitting. some times the network will memorize the train datas so we shouldn't use more epochs allways and we should mind this problem. There is some simple methods to avoid overfitting when using large number of epochs like early-stopping."
   ]
  },
  {
   "cell_type": "markdown",
   "id": "4f9117b4",
   "metadata": {},
   "source": [
    "### Part 3(Loss Function):"
   ]
  },
  {
   "cell_type": "code",
   "execution_count": 31,
   "id": "0de991ab",
   "metadata": {},
   "outputs": [
    {
     "name": "stdout",
     "output_type": "stream",
     "text": [
      "Epoch 1/10\n",
      "9312/9312 [==============================] - 37s 4ms/step - loss: 0.0065 - accuracy: 0.8858 - val_loss: 0.0029 - val_accuracy: 0.9515\n",
      "Epoch 2/10\n",
      "9312/9312 [==============================] - 35s 4ms/step - loss: 0.0038 - accuracy: 0.9348 - val_loss: 0.0024 - val_accuracy: 0.9591\n",
      "Epoch 3/10\n",
      "9312/9312 [==============================] - 38s 4ms/step - loss: 0.0034 - accuracy: 0.9427 - val_loss: 0.0023 - val_accuracy: 0.9613\n",
      "Epoch 4/10\n",
      "9312/9312 [==============================] - 35s 4ms/step - loss: 0.0032 - accuracy: 0.9465 - val_loss: 0.0021 - val_accuracy: 0.9659\n",
      "Epoch 5/10\n",
      "9312/9312 [==============================] - 32s 3ms/step - loss: 0.0031 - accuracy: 0.9487 - val_loss: 0.0019 - val_accuracy: 0.9684\n",
      "Epoch 6/10\n",
      "9312/9312 [==============================] - 34s 4ms/step - loss: 0.0030 - accuracy: 0.9505 - val_loss: 0.0019 - val_accuracy: 0.9695\n",
      "Epoch 7/10\n",
      "9312/9312 [==============================] - 36s 4ms/step - loss: 0.0030 - accuracy: 0.9518 - val_loss: 0.0019 - val_accuracy: 0.9692\n",
      "Epoch 8/10\n",
      "9312/9312 [==============================] - 33s 3ms/step - loss: 0.0029 - accuracy: 0.9526 - val_loss: 0.0019 - val_accuracy: 0.9706\n",
      "Epoch 9/10\n",
      "9312/9312 [==============================] - 31s 3ms/step - loss: 0.0029 - accuracy: 0.9536 - val_loss: 0.0019 - val_accuracy: 0.9699\n",
      "Epoch 10/10\n",
      "9312/9312 [==============================] - 34s 4ms/step - loss: 0.0029 - accuracy: 0.9542 - val_loss: 0.0019 - val_accuracy: 0.9704\n",
      "Training Duration:  0:05:45.155258\n"
     ]
    },
    {
     "data": {
      "text/plain": [
       "<matplotlib.legend.Legend at 0x1e11f5786d0>"
      ]
     },
     "execution_count": 31,
     "metadata": {},
     "output_type": "execute_result"
    },
    {
     "data": {
      "image/png": "[encoded data removed]",
      "text/plain": [
       "<Figure size 432x288 with 1 Axes>"
      ]
     },
     "metadata": {
      "needs_background": "light"
     },
     "output_type": "display_data"
    },
    {
     "data": {
      "image/png": "[encoded data removed]",
      "text/plain": [
       "<Figure size 432x288 with 1 Axes>"
      ]
     },
     "metadata": {
      "needs_background": "light"
     },
     "output_type": "display_data"
    }
   ],
   "source": [
    "#creating the model\n",
    "model = tf.keras.Sequential()\n",
    "activation_func = 'relu'\n",
    "model.add(layers.Flatten(input_shape = (28*28, 1)))\n",
    "model.add(layers.Dense(200, activation=activation_func))\n",
    "model.add(layers.Dropout(0.25))\n",
    "model.add(layers.Dense(100, activation=activation_func))\n",
    "model.add(layers.Dropout(0.25))\n",
    "model.add(layers.Dense(len(classes), activation='softmax'))\n",
    "\n",
    "#compiling the model\n",
    "loss_func = 'mse'\n",
    "optimizer_func = tf.keras.optimizers.Adam(learning_rate=0.001)\n",
    "model.compile(loss=loss_func, optimizer=optimizer_func, metrics=['accuracy'])\n",
    "\n",
    "#training the model\n",
    "start = datetime.datetime.now()\n",
    "trainedModel = model.fit(x_train, y_train, batch_size=32, epochs=10, validation_data = (x_test, y_test))\n",
    "end = datetime.datetime.now()\n",
    "\n",
    "print('Training Duration: ', end-start)\n",
    "\n",
    "#evaluating the model\n",
    "history = trainedModel.history\n",
    "loss = history['loss']\n",
    "val_loss = history['val_loss']\n",
    "acc = history['accuracy']\n",
    "val_acc = history['val_accuracy']\n",
    "plt.xlabel('Epochs')\n",
    "plt.ylabel('loss')\n",
    "plt.plot(loss)\n",
    "plt.plot(val_loss)\n",
    "plt.legend(['loss','val_loss'])\n",
    "plt.figure()\n",
    "plt.xlabel('Epochs')\n",
    "plt.ylabel('accuracy')\n",
    "plt.plot(acc)\n",
    "plt.plot(val_acc)\n",
    "plt.legend(['acc','val_acc'])"
   ]
  },
  {
   "cell_type": "code",
   "execution_count": 32,
   "id": "0d71a155",
   "metadata": {},
   "outputs": [
    {
     "name": "stdout",
     "output_type": "stream",
     "text": [
      "for train data:\n",
      "              precision    recall  f1-score   support\n",
      "\n",
      "           0      0.970     0.978     0.974     11095\n",
      "           1      0.960     0.965     0.962      6934\n",
      "           2      0.967     0.986     0.976     18727\n",
      "           3      0.952     0.927     0.939      8107\n",
      "           4      0.987     0.947     0.967      9152\n",
      "           5      0.950     0.965     0.957       930\n",
      "           6      0.962     0.946     0.954      4610\n",
      "           7      0.947     0.935     0.941      5774\n",
      "           8      0.909     0.961     0.934       896\n",
      "           9      0.947     0.959     0.953      6794\n",
      "          10      0.966     0.937     0.951      4482\n",
      "          11      0.972     0.978     0.975      9269\n",
      "          12      0.984     0.965     0.974      9869\n",
      "          13      0.960     0.980     0.970     15208\n",
      "          14      0.985     0.986     0.986     46260\n",
      "          15      0.983     0.986     0.985     15473\n",
      "          16      0.954     0.946     0.950      4650\n",
      "          17      0.980     0.952     0.966      9253\n",
      "          18      0.994     0.990     0.992     38735\n",
      "          19      0.984     0.993     0.988     17996\n",
      "          20      0.970     0.992     0.981     23207\n",
      "          21      0.981     0.976     0.978      3346\n",
      "          22      0.984     0.960     0.972      8627\n",
      "          23      0.978     0.964     0.971      5018\n",
      "          24      0.968     0.969     0.969      8687\n",
      "          25      0.975     0.973     0.974      4861\n",
      "\n",
      "    accuracy                          0.976    297960\n",
      "   macro avg      0.968     0.966     0.967    297960\n",
      "weighted avg      0.976     0.976     0.976    297960\n",
      "\n"
     ]
    }
   ],
   "source": [
    "# train metrics\n",
    "y_pred = model.predict(x_train)\n",
    "y_pred_temp = []\n",
    "for i in range(len(y_pred)):\n",
    "    pred_index = np.argmax(y_pred[i])\n",
    "    y_pred_temp.append(pred_index)\n",
    "    \n",
    "y_train_temp = []\n",
    "for i in range(len(y_train)):\n",
    "    train_index = np.argmax(y_train[i])\n",
    "    y_train_temp.append(train_index)\n",
    "    \n",
    "#calculating metrics\n",
    "print('for train data:')\n",
    "print(metrics.classification_report(y_train_temp, y_pred_temp, digits=3))"
   ]
  },
  {
   "cell_type": "code",
   "execution_count": 33,
   "id": "92ce4c60",
   "metadata": {},
   "outputs": [
    {
     "name": "stdout",
     "output_type": "stream",
     "text": [
      "for test data:\n",
      "              precision    recall  f1-score   support\n",
      "\n",
      "           0      0.964     0.967     0.965      2774\n",
      "           1      0.952     0.954     0.953      1734\n",
      "           2      0.963     0.985     0.974      4682\n",
      "           3      0.933     0.904     0.919      2027\n",
      "           4      0.978     0.942     0.960      2288\n",
      "           5      0.941     0.953     0.947       233\n",
      "           6      0.958     0.943     0.950      1152\n",
      "           7      0.929     0.923     0.926      1444\n",
      "           8      0.915     0.960     0.937       224\n",
      "           9      0.927     0.950     0.938      1699\n",
      "          10      0.953     0.937     0.945      1121\n",
      "          11      0.972     0.979     0.976      2317\n",
      "          12      0.981     0.957     0.969      2467\n",
      "          13      0.949     0.979     0.964      3802\n",
      "          14      0.981     0.982     0.982     11565\n",
      "          15      0.983     0.981     0.982      3868\n",
      "          16      0.945     0.938     0.942      1162\n",
      "          17      0.979     0.940     0.959      2313\n",
      "          18      0.991     0.986     0.989      9684\n",
      "          19      0.983     0.990     0.986      4499\n",
      "          20      0.966     0.990     0.978      5801\n",
      "          21      0.970     0.978     0.974       836\n",
      "          22      0.977     0.941     0.959      2157\n",
      "          23      0.970     0.964     0.967      1254\n",
      "          24      0.964     0.960     0.962      2172\n",
      "          25      0.964     0.965     0.965      1215\n",
      "\n",
      "    accuracy                          0.970     74490\n",
      "   macro avg      0.961     0.960     0.960     74490\n",
      "weighted avg      0.971     0.970     0.970     74490\n",
      "\n"
     ]
    }
   ],
   "source": [
    "# test metrics\n",
    "y_pred = model.predict(x_test)\n",
    "y_pred_temp = []\n",
    "for i in range(len(y_pred)):\n",
    "    pred_index = np.argmax(y_pred[i])\n",
    "    y_pred_temp.append(pred_index)\n",
    "    \n",
    "y_test_temp = []\n",
    "for i in range(len(y_test)):\n",
    "    test_index = np.argmax(y_test[i])\n",
    "    y_test_temp.append(test_index)\n",
    "    \n",
    "#calculating metrics\n",
    "print('for test data:')\n",
    "print(metrics.classification_report(y_test_temp, y_pred_temp, digits=3))"
   ]
  },
  {
   "cell_type": "markdown",
   "id": "b42a3a82",
   "metadata": {},
   "source": [
    "Accuracy for MSE ==> 0.970<br>\n",
    "Accuracy for Categorical Crossentropy ==> 0.977<br><br>\n",
    "MSE is not good for Classificaion problems.<br><br>\n",
    "There are two reasons why Mean Squared Error(MSE) is a bad choice for binary classification problems:<br>\n",
    "First, using MSE means that we assume that the underlying data has been generated from a normal distribution (a bell-shaped curve). In Bayesian terms this means we assume a Gaussian prior. While in reality, a dataset that can be classified into two categories (i.e binary) is not from a normal distribution but a Bernoulli distribution.<br>\n",
    "Secondly, the MSE function is non-convex for binary classification. In simple terms, if a binary classification model is trained with MSE Cost function, it is not guaranteed to minimize the Cost function. This is because MSE function expects real-valued inputs in range(-∞, ∞), while binary classification models output probabilities in range(0,1) through the sigmoid/logistic function.<br><br>\n",
    "On a final note, MSE is a good choice for a Cost function when we are doing Linear Regression (i.e fitting a line through data for extrapolation). In the absence of any knowledge of how the data is distributed assuming normal/gaussian distribution is perfectly reasonable.<br><br>\n",
    "Source: https://towardsdatascience.com/why-using-mean-squared-error-mse-cost-function-for-binary-classification-is-a-bad-idea-933089e90df7#:~:text=There%20are%20two%20reasons%20why,we%20assume%20a%20Gaussian%20prior"
   ]
  },
  {
   "cell_type": "markdown",
   "id": "b29c5b21",
   "metadata": {},
   "source": [
    "### Part 4(Regularization):"
   ]
  },
  {
   "cell_type": "markdown",
   "id": "0affc121",
   "metadata": {},
   "source": [
    "### Without dropout:"
   ]
  },
  {
   "cell_type": "code",
   "execution_count": 34,
   "id": "c61b5be4",
   "metadata": {},
   "outputs": [
    {
     "name": "stdout",
     "output_type": "stream",
     "text": [
      "Epoch 1/10\n",
      "9312/9312 [==============================] - 29s 3ms/step - loss: 0.2243 - accuracy: 0.9368 - val_loss: 0.1422 - val_accuracy: 0.9580\n",
      "Epoch 2/10\n",
      "9312/9312 [==============================] - 28s 3ms/step - loss: 0.0999 - accuracy: 0.9709 - val_loss: 0.0993 - val_accuracy: 0.9713\n",
      "Epoch 3/10\n",
      "9312/9312 [==============================] - 26s 3ms/step - loss: 0.0754 - accuracy: 0.9774 - val_loss: 0.0877 - val_accuracy: 0.9747\n",
      "Epoch 4/10\n",
      "9312/9312 [==============================] - 26s 3ms/step - loss: 0.0614 - accuracy: 0.9815 - val_loss: 0.0842 - val_accuracy: 0.9756\n",
      "Epoch 5/10\n",
      "9312/9312 [==============================] - 27s 3ms/step - loss: 0.0518 - accuracy: 0.9841 - val_loss: 0.0844 - val_accuracy: 0.9761\n",
      "Epoch 6/10\n",
      "9312/9312 [==============================] - 25s 3ms/step - loss: 0.0453 - accuracy: 0.9859 - val_loss: 0.0817 - val_accuracy: 0.9787\n",
      "Epoch 7/10\n",
      "9312/9312 [==============================] - 25s 3ms/step - loss: 0.0412 - accuracy: 0.9873 - val_loss: 0.0759 - val_accuracy: 0.9814\n",
      "Epoch 8/10\n",
      "9312/9312 [==============================] - 26s 3ms/step - loss: 0.0380 - accuracy: 0.9883 - val_loss: 0.0870 - val_accuracy: 0.9791\n",
      "Epoch 9/10\n",
      "9312/9312 [==============================] - 38s 4ms/step - loss: 0.0351 - accuracy: 0.9892 - val_loss: 0.0824 - val_accuracy: 0.9814\n",
      "Epoch 10/10\n",
      "9312/9312 [==============================] - 26s 3ms/step - loss: 0.0331 - accuracy: 0.9899 - val_loss: 0.0752 - val_accuracy: 0.9830\n",
      "Training Duration:  0:04:35.870270\n"
     ]
    },
    {
     "data": {
      "text/plain": [
       "<matplotlib.legend.Legend at 0x1e181aa9e80>"
      ]
     },
     "execution_count": 34,
     "metadata": {},
     "output_type": "execute_result"
    },
    {
     "data": {
      "image/png": "[encoded data removed]",
      "text/plain": [
       "<Figure size 432x288 with 1 Axes>"
      ]
     },
     "metadata": {
      "needs_background": "light"
     },
     "output_type": "display_data"
    },
    {
     "data": {
      "image/png": "[encoded data removed]",
      "text/plain": [
       "<Figure size 432x288 with 1 Axes>"
      ]
     },
     "metadata": {
      "needs_background": "light"
     },
     "output_type": "display_data"
    }
   ],
   "source": [
    "#creating the model\n",
    "model = tf.keras.Sequential()\n",
    "activation_func = 'relu'\n",
    "model.add(layers.Flatten(input_shape = (28*28, 1)))\n",
    "model.add(layers.Dense(200, activation=activation_func))\n",
    "model.add(layers.Dense(100, activation=activation_func))\n",
    "model.add(layers.Dense(len(classes), activation='softmax'))\n",
    "\n",
    "#compiling the model\n",
    "loss_func = 'categorical_crossentropy'\n",
    "optimizer_func = tf.keras.optimizers.Adam(learning_rate=0.001)\n",
    "model.compile(loss=loss_func, optimizer=optimizer_func, metrics=['accuracy'])\n",
    "\n",
    "#training the model\n",
    "start = datetime.datetime.now()\n",
    "trainedModel = model.fit(x_train, y_train, batch_size=32, epochs=10, validation_data = (x_test, y_test))\n",
    "end = datetime.datetime.now()\n",
    "\n",
    "print('Training Duration: ', end-start)\n",
    "\n",
    "#evaluating the model\n",
    "history = trainedModel.history\n",
    "loss = history['loss']\n",
    "val_loss = history['val_loss']\n",
    "acc = history['accuracy']\n",
    "val_acc = history['val_accuracy']\n",
    "plt.xlabel('Epochs')\n",
    "plt.ylabel('loss')\n",
    "plt.plot(loss)\n",
    "plt.plot(val_loss)\n",
    "plt.legend(['loss','val_loss'])\n",
    "plt.figure()\n",
    "plt.xlabel('Epochs')\n",
    "plt.ylabel('accuracy')\n",
    "plt.plot(acc)\n",
    "plt.plot(val_acc)\n",
    "plt.legend(['acc','val_acc'])"
   ]
  },
  {
   "cell_type": "markdown",
   "id": "533fb00d",
   "metadata": {},
   "source": [
    "As it is obvious without dropout we have overfitting problem"
   ]
  },
  {
   "cell_type": "code",
   "execution_count": 35,
   "id": "405d0db7",
   "metadata": {},
   "outputs": [
    {
     "name": "stdout",
     "output_type": "stream",
     "text": [
      "for train data:\n",
      "              precision    recall  f1-score   support\n",
      "\n",
      "           0      0.980     0.994     0.987     11095\n",
      "           1      0.989     0.983     0.986      6934\n",
      "           2      0.986     0.997     0.992     18727\n",
      "           3      0.971     0.985     0.978      8107\n",
      "           4      0.996     0.983     0.990      9152\n",
      "           5      0.969     0.989     0.979       930\n",
      "           6      0.990     0.987     0.988      4610\n",
      "           7      0.988     0.961     0.974      5774\n",
      "           8      0.989     0.961     0.975       896\n",
      "           9      0.995     0.971     0.983      6794\n",
      "          10      0.984     0.975     0.979      4482\n",
      "          11      0.997     0.981     0.989      9269\n",
      "          12      0.990     0.996     0.993      9869\n",
      "          13      0.994     0.987     0.991     15208\n",
      "          14      0.995     0.997     0.996     46260\n",
      "          15      1.000     0.988     0.994     15473\n",
      "          16      0.991     0.986     0.989      4650\n",
      "          17      0.960     0.997     0.978      9253\n",
      "          18      0.997     0.998     0.997     38735\n",
      "          19      0.997     0.997     0.997     17996\n",
      "          20      0.996     0.991     0.994     23207\n",
      "          21      0.999     0.983     0.991      3346\n",
      "          22      0.985     0.995     0.990      8627\n",
      "          23      0.982     0.998     0.990      5018\n",
      "          24      0.992     0.992     0.992      8687\n",
      "          25      0.991     0.995     0.993      4861\n",
      "\n",
      "    accuracy                          0.991    297960\n",
      "   macro avg      0.989     0.987     0.988    297960\n",
      "weighted avg      0.991     0.991     0.991    297960\n",
      "\n"
     ]
    }
   ],
   "source": [
    "# train metrics\n",
    "y_pred = model.predict(x_train)\n",
    "y_pred_temp = []\n",
    "for i in range(len(y_pred)):\n",
    "    pred_index = np.argmax(y_pred[i])\n",
    "    y_pred_temp.append(pred_index)\n",
    "    \n",
    "y_train_temp = []\n",
    "for i in range(len(y_train)):\n",
    "    train_index = np.argmax(y_train[i])\n",
    "    y_train_temp.append(train_index)\n",
    "    \n",
    "#calculating metrics\n",
    "print('for train data:')\n",
    "print(metrics.classification_report(y_train_temp, y_pred_temp, digits=3))"
   ]
  },
  {
   "cell_type": "code",
   "execution_count": 36,
   "id": "67f2b01a",
   "metadata": {},
   "outputs": [
    {
     "name": "stdout",
     "output_type": "stream",
     "text": [
      "for test data:\n",
      "              precision    recall  f1-score   support\n",
      "\n",
      "           0      0.969     0.987     0.978      2774\n",
      "           1      0.986     0.964     0.975      1734\n",
      "           2      0.976     0.993     0.985      4682\n",
      "           3      0.937     0.968     0.952      2027\n",
      "           4      0.988     0.967     0.978      2288\n",
      "           5      0.962     0.974     0.968       233\n",
      "           6      0.980     0.969     0.974      1152\n",
      "           7      0.974     0.933     0.953      1444\n",
      "           8      0.981     0.920     0.949       224\n",
      "           9      0.989     0.961     0.975      1699\n",
      "          10      0.958     0.946     0.952      1121\n",
      "          11      0.995     0.973     0.984      2317\n",
      "          12      0.981     0.987     0.984      2467\n",
      "          13      0.986     0.978     0.982      3802\n",
      "          14      0.989     0.993     0.991     11565\n",
      "          15      0.996     0.981     0.988      3868\n",
      "          16      0.972     0.960     0.966      1162\n",
      "          17      0.934     0.989     0.961      2313\n",
      "          18      0.995     0.996     0.995      9684\n",
      "          19      0.995     0.992     0.993      4499\n",
      "          20      0.993     0.984     0.988      5801\n",
      "          21      0.996     0.969     0.982       836\n",
      "          22      0.971     0.983     0.977      2157\n",
      "          23      0.953     0.993     0.973      1254\n",
      "          24      0.982     0.981     0.981      2172\n",
      "          25      0.980     0.984     0.982      1215\n",
      "\n",
      "    accuracy                          0.983     74490\n",
      "   macro avg      0.978     0.974     0.976     74490\n",
      "weighted avg      0.983     0.983     0.983     74490\n",
      "\n"
     ]
    }
   ],
   "source": [
    "# test metrics\n",
    "y_pred = model.predict(x_test)\n",
    "y_pred_temp = []\n",
    "for i in range(len(y_pred)):\n",
    "    pred_index = np.argmax(y_pred[i])\n",
    "    y_pred_temp.append(pred_index)\n",
    "    \n",
    "y_test_temp = []\n",
    "for i in range(len(y_test)):\n",
    "    test_index = np.argmax(y_test[i])\n",
    "    y_test_temp.append(test_index)\n",
    "    \n",
    "#calculating metrics\n",
    "print('for test data:')\n",
    "print(metrics.classification_report(y_test_temp, y_pred_temp, digits=3))"
   ]
  },
  {
   "cell_type": "markdown",
   "id": "b1167bc4",
   "metadata": {},
   "source": [
    "### Adding Regularization<br>\n",
    "Weight regularization provides an approach to reduce the overfitting of a deep learning neural network model on the training data and improve the performance of the model on new data, such as the holdout test set."
   ]
  },
  {
   "cell_type": "code",
   "execution_count": 38,
   "id": "cbde9764",
   "metadata": {},
   "outputs": [
    {
     "name": "stdout",
     "output_type": "stream",
     "text": [
      "Epoch 1/10\n",
      "9312/9312 [==============================] - 34s 4ms/step - loss: 0.2860 - accuracy: 0.9359 - val_loss: 0.2134 - val_accuracy: 0.9582\n",
      "Epoch 2/10\n",
      "9312/9312 [==============================] - 32s 3ms/step - loss: 0.1846 - accuracy: 0.9664 - val_loss: 0.1739 - val_accuracy: 0.9697\n",
      "Epoch 3/10\n",
      "9312/9312 [==============================] - 41s 4ms/step - loss: 0.1661 - accuracy: 0.9710 - val_loss: 0.1768 - val_accuracy: 0.9677\n",
      "Epoch 4/10\n",
      "9312/9312 [==============================] - 34s 4ms/step - loss: 0.1558 - accuracy: 0.9729 - val_loss: 0.1631 - val_accuracy: 0.9707\n",
      "Epoch 5/10\n",
      "9312/9312 [==============================] - 36s 4ms/step - loss: 0.1489 - accuracy: 0.9745 - val_loss: 0.1639 - val_accuracy: 0.9704\n",
      "Epoch 6/10\n",
      "9312/9312 [==============================] - 39s 4ms/step - loss: 0.1447 - accuracy: 0.9752 - val_loss: 0.1480 - val_accuracy: 0.9747\n",
      "Epoch 7/10\n",
      "9312/9312 [==============================] - 42s 4ms/step - loss: 0.1415 - accuracy: 0.9756 - val_loss: 0.1493 - val_accuracy: 0.9735\n",
      "Epoch 8/10\n",
      "9312/9312 [==============================] - 45s 5ms/step - loss: 0.1383 - accuracy: 0.9759 - val_loss: 0.1487 - val_accuracy: 0.9735\n",
      "Epoch 9/10\n",
      "9312/9312 [==============================] - 37s 4ms/step - loss: 0.1370 - accuracy: 0.9766 - val_loss: 0.1565 - val_accuracy: 0.9715\n",
      "Epoch 10/10\n",
      "9312/9312 [==============================] - 40s 4ms/step - loss: 0.1345 - accuracy: 0.9767 - val_loss: 0.1442 - val_accuracy: 0.9750\n",
      "Training Duration:  0:06:20.197283\n"
     ]
    },
    {
     "data": {
      "text/plain": [
       "<matplotlib.legend.Legend at 0x1e1b2b7b610>"
      ]
     },
     "execution_count": 38,
     "metadata": {},
     "output_type": "execute_result"
    },
    {
     "data": {
      "image/png": "[encoded data removed]",
      "text/plain": [
       "<Figure size 432x288 with 1 Axes>"
      ]
     },
     "metadata": {
      "needs_background": "light"
     },
     "output_type": "display_data"
    },
    {
     "data": {
      "image/png": "[encoded data removed]",
      "text/plain": [
       "<Figure size 432x288 with 1 Axes>"
      ]
     },
     "metadata": {
      "needs_background": "light"
     },
     "output_type": "display_data"
    }
   ],
   "source": [
    "#creating the model\n",
    "model = tf.keras.Sequential()\n",
    "activation_func = 'relu'\n",
    "model.add(layers.Flatten(input_shape = (28*28, 1)))\n",
    "model.add(layers.Dense(200, activation=activation_func, kernel_regularizer=l2(0.0001), bias_regularizer=l2(0.0001)))\n",
    "model.add(layers.Dense(100, activation=activation_func, kernel_regularizer=l2(0.0001), bias_regularizer=l2(0.0001)))\n",
    "model.add(layers.Dense(len(classes), activation='softmax'))\n",
    "\n",
    "#compiling the model\n",
    "loss_func = 'categorical_crossentropy'\n",
    "optimizer_func = tf.keras.optimizers.Adam(learning_rate=0.001)\n",
    "model.compile(loss=loss_func, optimizer=optimizer_func, metrics=['accuracy'])\n",
    "\n",
    "#training the model\n",
    "start = datetime.datetime.now()\n",
    "trainedModel = model.fit(x_train, y_train, batch_size=32, epochs=10, validation_data = (x_test, y_test))\n",
    "end = datetime.datetime.now()\n",
    "\n",
    "print('Training Duration: ', end-start)\n",
    "\n",
    "#evaluating the model\n",
    "history = trainedModel.history\n",
    "loss = history['loss']\n",
    "val_loss = history['val_loss']\n",
    "acc = history['accuracy']\n",
    "val_acc = history['val_accuracy']\n",
    "plt.xlabel('Epochs')\n",
    "plt.ylabel('loss')\n",
    "plt.plot(loss)\n",
    "plt.plot(val_loss)\n",
    "plt.legend(['loss','val_loss'])\n",
    "plt.figure()\n",
    "plt.xlabel('Epochs')\n",
    "plt.ylabel('accuracy')\n",
    "plt.plot(acc)\n",
    "plt.plot(val_acc)\n",
    "plt.legend(['acc','val_acc'])"
   ]
  },
  {
   "cell_type": "markdown",
   "id": "62befd0e",
   "metadata": {},
   "source": [
    "As we can see the overfitting problem is decreased!"
   ]
  },
  {
   "cell_type": "code",
   "execution_count": 39,
   "id": "cf25cca3",
   "metadata": {},
   "outputs": [
    {
     "name": "stdout",
     "output_type": "stream",
     "text": [
      "for train data:\n",
      "              precision    recall  f1-score   support\n",
      "\n",
      "           0      0.986     0.979     0.982     11095\n",
      "           1      0.982     0.955     0.968      6934\n",
      "           2      0.973     0.993     0.983     18727\n",
      "           3      0.971     0.901     0.935      8107\n",
      "           4      0.989     0.963     0.976      9152\n",
      "           5      0.974     0.968     0.971       930\n",
      "           6      0.948     0.965     0.957      4610\n",
      "           7      0.971     0.957     0.964      5774\n",
      "           8      0.996     0.935     0.965       896\n",
      "           9      0.949     0.971     0.960      6794\n",
      "          10      0.965     0.966     0.966      4482\n",
      "          11      0.989     0.973     0.981      9269\n",
      "          12      0.980     0.989     0.984      9869\n",
      "          13      0.968     0.988     0.978     15208\n",
      "          14      0.973     0.996     0.984     46260\n",
      "          15      0.990     0.987     0.989     15473\n",
      "          16      0.987     0.937     0.961      4650\n",
      "          17      0.975     0.972     0.974      9253\n",
      "          18      0.994     0.993     0.993     38735\n",
      "          19      0.995     0.991     0.993     17996\n",
      "          20      0.979     0.990     0.985     23207\n",
      "          21      0.978     0.995     0.986      3346\n",
      "          22      0.995     0.944     0.969      8627\n",
      "          23      0.989     0.970     0.979      5018\n",
      "          24      0.980     0.973     0.976      8687\n",
      "          25      0.986     0.981     0.984      4861\n",
      "\n",
      "    accuracy                          0.981    297960\n",
      "   macro avg      0.979     0.970     0.975    297960\n",
      "weighted avg      0.981     0.981     0.981    297960\n",
      "\n"
     ]
    }
   ],
   "source": [
    "# train metrics\n",
    "y_pred = model.predict(x_train)\n",
    "y_pred_temp = []\n",
    "for i in range(len(y_pred)):\n",
    "    pred_index = np.argmax(y_pred[i])\n",
    "    y_pred_temp.append(pred_index)\n",
    "    \n",
    "y_train_temp = []\n",
    "for i in range(len(y_train)):\n",
    "    train_index = np.argmax(y_train[i])\n",
    "    y_train_temp.append(train_index)\n",
    "    \n",
    "#calculating metrics\n",
    "print('for train data:')\n",
    "print(metrics.classification_report(y_train_temp, y_pred_temp, digits=3))"
   ]
  },
  {
   "cell_type": "code",
   "execution_count": 40,
   "id": "9dbaa399",
   "metadata": {},
   "outputs": [
    {
     "name": "stdout",
     "output_type": "stream",
     "text": [
      "for test data:\n",
      "              precision    recall  f1-score   support\n",
      "\n",
      "           0      0.981     0.965     0.973      2774\n",
      "           1      0.978     0.942     0.960      1734\n",
      "           2      0.971     0.987     0.979      4682\n",
      "           3      0.959     0.893     0.925      2027\n",
      "           4      0.980     0.953     0.967      2288\n",
      "           5      0.973     0.931     0.952       233\n",
      "           6      0.940     0.963     0.951      1152\n",
      "           7      0.957     0.945     0.951      1444\n",
      "           8      0.991     0.942     0.966       224\n",
      "           9      0.940     0.964     0.951      1699\n",
      "          10      0.957     0.955     0.956      1121\n",
      "          11      0.984     0.973     0.979      2317\n",
      "          12      0.969     0.987     0.978      2467\n",
      "          13      0.959     0.986     0.972      3802\n",
      "          14      0.969     0.995     0.982     11565\n",
      "          15      0.981     0.984     0.983      3868\n",
      "          16      0.978     0.929     0.953      1162\n",
      "          17      0.966     0.959     0.962      2313\n",
      "          18      0.993     0.988     0.991      9684\n",
      "          19      0.992     0.989     0.990      4499\n",
      "          20      0.976     0.988     0.982      5801\n",
      "          21      0.958     0.993     0.975       836\n",
      "          22      0.990     0.918     0.953      2157\n",
      "          23      0.983     0.967     0.975      1254\n",
      "          24      0.975     0.963     0.969      2172\n",
      "          25      0.988     0.969     0.978      1215\n",
      "\n",
      "    accuracy                          0.975     74490\n",
      "   macro avg      0.973     0.963     0.967     74490\n",
      "weighted avg      0.975     0.975     0.975     74490\n",
      "\n"
     ]
    }
   ],
   "source": [
    "# test metrics\n",
    "y_pred = model.predict(x_test)\n",
    "y_pred_temp = []\n",
    "for i in range(len(y_pred)):\n",
    "    pred_index = np.argmax(y_pred[i])\n",
    "    y_pred_temp.append(pred_index)\n",
    "    \n",
    "y_test_temp = []\n",
    "for i in range(len(y_test)):\n",
    "    test_index = np.argmax(y_test[i])\n",
    "    y_test_temp.append(test_index)\n",
    "    \n",
    "#calculating metrics\n",
    "print('for test data:')\n",
    "print(metrics.classification_report(y_test_temp, y_pred_temp, digits=3))"
   ]
  },
  {
   "cell_type": "markdown",
   "id": "a3df905a",
   "metadata": {},
   "source": [
    "### Adding Dropout<br>\n",
    "The Dropout layer randomly sets input units to 0 with a frequency of rate at each step during training time, which helps prevent overfitting. Inputs not set to 0 are scaled up by 1/(1 - rate) such that the sum over all inputs is unchanged."
   ]
  },
  {
   "cell_type": "code",
   "execution_count": 43,
   "id": "e98d544d",
   "metadata": {},
   "outputs": [
    {
     "name": "stdout",
     "output_type": "stream",
     "text": [
      "Epoch 1/10\n",
      "9312/9312 [==============================] - 41s 4ms/step - loss: 0.3390 - accuracy: 0.9211 - val_loss: 0.2089 - val_accuracy: 0.9621\n",
      "Epoch 2/10\n",
      "9312/9312 [==============================] - 40s 4ms/step - loss: 0.2316 - accuracy: 0.9551 - val_loss: 0.1933 - val_accuracy: 0.9677\n",
      "Epoch 3/10\n",
      "9312/9312 [==============================] - 43s 5ms/step - loss: 0.2160 - accuracy: 0.9599 - val_loss: 0.1759 - val_accuracy: 0.9724\n",
      "Epoch 4/10\n",
      "9312/9312 [==============================] - 42s 5ms/step - loss: 0.2088 - accuracy: 0.9621 - val_loss: 0.1773 - val_accuracy: 0.9718\n",
      "Epoch 5/10\n",
      "9312/9312 [==============================] - 41s 4ms/step - loss: 0.2047 - accuracy: 0.9630 - val_loss: 0.1793 - val_accuracy: 0.9707\n",
      "Epoch 6/10\n",
      "9312/9312 [==============================] - 37s 4ms/step - loss: 0.2012 - accuracy: 0.9636 - val_loss: 0.1790 - val_accuracy: 0.9712\n",
      "Epoch 7/10\n",
      "9312/9312 [==============================] - 37s 4ms/step - loss: 0.2000 - accuracy: 0.9642 - val_loss: 0.1839 - val_accuracy: 0.9700\n",
      "Epoch 8/10\n",
      "9312/9312 [==============================] - 37s 4ms/step - loss: 0.1996 - accuracy: 0.9641 - val_loss: 0.1667 - val_accuracy: 0.9752\n",
      "Epoch 9/10\n",
      "9312/9312 [==============================] - 37s 4ms/step - loss: 0.1981 - accuracy: 0.9650 - val_loss: 0.1698 - val_accuracy: 0.9732\n",
      "Epoch 10/10\n",
      "9312/9312 [==============================] - 45s 5ms/step - loss: 0.1964 - accuracy: 0.9651 - val_loss: 0.1769 - val_accuracy: 0.9714\n",
      "Training Duration:  0:06:41.003710\n"
     ]
    },
    {
     "data": {
      "text/plain": [
       "<matplotlib.legend.Legend at 0x1e1d0aff040>"
      ]
     },
     "execution_count": 43,
     "metadata": {},
     "output_type": "execute_result"
    },
    {
     "data": {
      "image/png": "[encoded data removed]",
      "text/plain": [
       "<Figure size 432x288 with 1 Axes>"
      ]
     },
     "metadata": {
      "needs_background": "light"
     },
     "output_type": "display_data"
    },
    {
     "data": {
      "image/png": "[encoded data removed]",
      "text/plain": [
       "<Figure size 432x288 with 1 Axes>"
      ]
     },
     "metadata": {
      "needs_background": "light"
     },
     "output_type": "display_data"
    }
   ],
   "source": [
    "#creating the model\n",
    "model = tf.keras.Sequential()\n",
    "activation_func = 'relu'\n",
    "model.add(layers.Flatten(input_shape = (28*28, 1)))\n",
    "model.add(layers.Dense(200, activation=activation_func, kernel_regularizer=l2(0.0001), bias_regularizer=l2(0.0001)))\n",
    "model.add(layers.Dropout(0.1))\n",
    "model.add(layers.Dense(100, activation=activation_func, kernel_regularizer=l2(0.0001), bias_regularizer=l2(0.0001)))\n",
    "model.add(layers.Dropout(0.1))\n",
    "model.add(layers.Dense(len(classes), activation='softmax'))\n",
    "\n",
    "#compiling the model\n",
    "loss_func = 'categorical_crossentropy'\n",
    "optimizer_func = tf.keras.optimizers.Adam(learning_rate=0.001)\n",
    "model.compile(loss=loss_func, optimizer=optimizer_func, metrics=['accuracy'])\n",
    "\n",
    "#training the model\n",
    "start = datetime.datetime.now()\n",
    "trainedModel = model.fit(x_train, y_train, batch_size=32, epochs=10, validation_data = (x_test, y_test))\n",
    "end = datetime.datetime.now()\n",
    "\n",
    "print('Training Duration: ', end-start)\n",
    "\n",
    "#evaluating the model\n",
    "history = trainedModel.history\n",
    "loss = history['loss']\n",
    "val_loss = history['val_loss']\n",
    "acc = history['accuracy']\n",
    "val_acc = history['val_accuracy']\n",
    "plt.xlabel('Epochs')\n",
    "plt.ylabel('loss')\n",
    "plt.plot(loss)\n",
    "plt.plot(val_loss)\n",
    "plt.legend(['loss','val_loss'])\n",
    "plt.figure()\n",
    "plt.xlabel('Epochs')\n",
    "plt.ylabel('accuracy')\n",
    "plt.plot(acc)\n",
    "plt.plot(val_acc)\n",
    "plt.legend(['acc','val_acc'])"
   ]
  },
  {
   "cell_type": "markdown",
   "id": "baf75703",
   "metadata": {},
   "source": [
    "As we can see the overfitting problem solved!"
   ]
  },
  {
   "cell_type": "code",
   "execution_count": 44,
   "id": "5c01a0eb",
   "metadata": {},
   "outputs": [
    {
     "name": "stdout",
     "output_type": "stream",
     "text": [
      "for train data:\n",
      "              precision    recall  f1-score   support\n",
      "\n",
      "           0      0.956     0.993     0.974     11095\n",
      "           1      0.980     0.939     0.959      6934\n",
      "           2      0.973     0.980     0.977     18727\n",
      "           3      0.932     0.924     0.928      8107\n",
      "           4      0.986     0.953     0.970      9152\n",
      "           5      0.967     0.955     0.961       930\n",
      "           6      0.926     0.960     0.943      4610\n",
      "           7      0.974     0.939     0.956      5774\n",
      "           8      0.933     0.951     0.942       896\n",
      "           9      0.963     0.933     0.948      6794\n",
      "          10      0.972     0.947     0.959      4482\n",
      "          11      0.986     0.971     0.978      9269\n",
      "          12      0.972     0.986     0.979      9869\n",
      "          13      0.975     0.979     0.977     15208\n",
      "          14      0.974     0.993     0.983     46260\n",
      "          15      0.981     0.986     0.984     15473\n",
      "          16      0.960     0.936     0.948      4650\n",
      "          17      0.986     0.947     0.966      9253\n",
      "          18      0.995     0.987     0.991     38735\n",
      "          19      0.980     0.994     0.987     17996\n",
      "          20      0.984     0.988     0.986     23207\n",
      "          21      0.973     0.989     0.981      3346\n",
      "          22      0.980     0.969     0.975      8627\n",
      "          23      0.982     0.958     0.970      5018\n",
      "          24      0.967     0.974     0.970      8687\n",
      "          25      0.990     0.976     0.983      4861\n",
      "\n",
      "    accuracy                          0.976    297960\n",
      "   macro avg      0.971     0.966     0.968    297960\n",
      "weighted avg      0.977     0.976     0.976    297960\n",
      "\n"
     ]
    }
   ],
   "source": [
    "# train metrics\n",
    "y_pred = model.predict(x_train)\n",
    "y_pred_temp = []\n",
    "for i in range(len(y_pred)):\n",
    "    pred_index = np.argmax(y_pred[i])\n",
    "    y_pred_temp.append(pred_index)\n",
    "    \n",
    "y_train_temp = []\n",
    "for i in range(len(y_train)):\n",
    "    train_index = np.argmax(y_train[i])\n",
    "    y_train_temp.append(train_index)\n",
    "    \n",
    "#calculating metrics\n",
    "print('for train data:')\n",
    "print(metrics.classification_report(y_train_temp, y_pred_temp, digits=3))"
   ]
  },
  {
   "cell_type": "code",
   "execution_count": 45,
   "id": "9a625391",
   "metadata": {},
   "outputs": [
    {
     "name": "stdout",
     "output_type": "stream",
     "text": [
      "for test data:\n",
      "              precision    recall  f1-score   support\n",
      "\n",
      "           0      0.948     0.987     0.967      2774\n",
      "           1      0.974     0.921     0.947      1734\n",
      "           2      0.968     0.978     0.973      4682\n",
      "           3      0.913     0.910     0.912      2027\n",
      "           4      0.983     0.945     0.964      2288\n",
      "           5      0.935     0.927     0.931       233\n",
      "           6      0.920     0.957     0.938      1152\n",
      "           7      0.972     0.930     0.951      1444\n",
      "           8      0.922     0.955     0.939       224\n",
      "           9      0.952     0.919     0.935      1699\n",
      "          10      0.966     0.935     0.950      1121\n",
      "          11      0.983     0.969     0.976      2317\n",
      "          12      0.971     0.981     0.976      2467\n",
      "          13      0.964     0.981     0.973      3802\n",
      "          14      0.968     0.991     0.980     11565\n",
      "          15      0.974     0.984     0.979      3868\n",
      "          16      0.953     0.932     0.942      1162\n",
      "          17      0.981     0.933     0.957      2313\n",
      "          18      0.994     0.982     0.988      9684\n",
      "          19      0.978     0.990     0.984      4499\n",
      "          20      0.981     0.985     0.983      5801\n",
      "          21      0.956     0.984     0.970       836\n",
      "          22      0.975     0.957     0.966      2157\n",
      "          23      0.978     0.963     0.970      1254\n",
      "          24      0.967     0.964     0.965      2172\n",
      "          25      0.986     0.966     0.976      1215\n",
      "\n",
      "    accuracy                          0.971     74490\n",
      "   macro avg      0.964     0.959     0.961     74490\n",
      "weighted avg      0.972     0.971     0.971     74490\n",
      "\n"
     ]
    }
   ],
   "source": [
    "# test metrics\n",
    "y_pred = model.predict(x_test)\n",
    "y_pred_temp = []\n",
    "for i in range(len(y_pred)):\n",
    "    pred_index = np.argmax(y_pred[i])\n",
    "    y_pred_temp.append(pred_index)\n",
    "    \n",
    "y_test_temp = []\n",
    "for i in range(len(y_test)):\n",
    "    test_index = np.argmax(y_test[i])\n",
    "    y_test_temp.append(test_index)\n",
    "    \n",
    "#calculating metrics\n",
    "print('for test data:')\n",
    "print(metrics.classification_report(y_test_temp, y_pred_temp, digits=3))"
   ]
  },
  {
   "cell_type": "code",
   "execution_count": null,
   "id": "c34392ed",
   "metadata": {},
   "outputs": [],
   "source": []
  }
 ],
 "metadata": {
  "accelerator": "GPU",
  "colab": {
   "collapsed_sections": [],
   "name": "AI_CA5_P2_810098043.ipynb",
   "provenance": []
  },
  "gpuClass": "standard",
  "kernelspec": {
   "display_name": "Python 3 (ipykernel)",
   "language": "python",
   "name": "python3"
  },
  "language_info": {
   "codemirror_mode": {
    "name": "ipython",
    "version": 3
   },
   "file_extension": ".py",
   "mimetype": "text/x-python",
   "name": "python",
   "nbconvert_exporter": "python",
   "pygments_lexer": "ipython3",
   "version": "3.9.7"
  }
 },
 "nbformat": 4,
 "nbformat_minor": 5
}
